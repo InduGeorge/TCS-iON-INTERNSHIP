{
 "cells": [
  {
   "cell_type": "markdown",
   "id": "975417cc",
   "metadata": {},
   "source": [
    "# TCS iON PROJECT"
   ]
  },
  {
   "cell_type": "markdown",
   "id": "36ac6812",
   "metadata": {},
   "source": [
    "# Statement : \n",
    "The objective of this project is to bulid a salary prediction dashboard for HRs    "
   ]
  },
  {
   "cell_type": "markdown",
   "id": "efd45dea",
   "metadata": {},
   "source": [
    "The data set used here is collected from Kaggle"
   ]
  },
  {
   "cell_type": "markdown",
   "id": "68b9ea8f",
   "metadata": {},
   "source": [
    "# Brief about Data :\n",
    "Data is about Human resources in a specific company each record represents an employee\n",
    "\n",
    "Variables description :\n",
    "\n",
    "Dependent variable: Salary\n",
    "\n",
    "\n",
    "Independent variables:\n",
    "\n",
    "satisfaction_level : means how much employee satisfied (0 less satisfied , 1 most satisfied)\n",
    "\n",
    "last_evaluation : means employees' evaluation for last month (0 bad , 1 Excellent)\n",
    "\n",
    "number_project : number of projects the employee worked on\n",
    "\n",
    "average_montly_hours : average months employee spends at work per month\n",
    "\n",
    "time_spend_company : years the employee spent in a company\n",
    "\n",
    "Left : 0 if employee did not leave , 1 if left company\n",
    "\n",
    "Work_accident : 0 if he did not have an accident , 1 if had at least one\n",
    "\n",
    "promotion_last_5years : 0 if he did not have any promotion in last 5 years , 1 if had at least one\n",
    "\n",
    "sales : department in which employee works"
   ]
  },
  {
   "cell_type": "code",
   "execution_count": 1,
   "id": "f410cc51",
   "metadata": {},
   "outputs": [],
   "source": [
    "#import libraries\n",
    "import pandas as pd\n",
    "import numpy as np\n",
    "import seaborn as sns\n",
    "import matplotlib.pyplot as plt"
   ]
  },
  {
   "cell_type": "code",
   "execution_count": 2,
   "id": "2eb60db9",
   "metadata": {},
   "outputs": [],
   "source": [
    "#supressing warnings\n",
    "import warnings\n",
    "warnings.filterwarnings('ignore')"
   ]
  },
  {
   "cell_type": "markdown",
   "id": "216edbaf",
   "metadata": {},
   "source": [
    "# 1.Importing the data set"
   ]
  },
  {
   "cell_type": "code",
   "execution_count": 3,
   "id": "dea438ac",
   "metadata": {},
   "outputs": [
    {
     "data": {
      "text/html": [
       "<div>\n",
       "<style scoped>\n",
       "    .dataframe tbody tr th:only-of-type {\n",
       "        vertical-align: middle;\n",
       "    }\n",
       "\n",
       "    .dataframe tbody tr th {\n",
       "        vertical-align: top;\n",
       "    }\n",
       "\n",
       "    .dataframe thead th {\n",
       "        text-align: right;\n",
       "    }\n",
       "</style>\n",
       "<table border=\"1\" class=\"dataframe\">\n",
       "  <thead>\n",
       "    <tr style=\"text-align: right;\">\n",
       "      <th></th>\n",
       "      <th>satisfaction_level</th>\n",
       "      <th>last_evaluation</th>\n",
       "      <th>number_project</th>\n",
       "      <th>average_montly_hours</th>\n",
       "      <th>time_spend_company</th>\n",
       "      <th>Work_accident</th>\n",
       "      <th>left</th>\n",
       "      <th>promotion_last_5years</th>\n",
       "      <th>sales</th>\n",
       "      <th>salary</th>\n",
       "    </tr>\n",
       "  </thead>\n",
       "  <tbody>\n",
       "    <tr>\n",
       "      <th>0</th>\n",
       "      <td>0.38</td>\n",
       "      <td>0.53</td>\n",
       "      <td>2</td>\n",
       "      <td>157</td>\n",
       "      <td>3</td>\n",
       "      <td>0</td>\n",
       "      <td>1</td>\n",
       "      <td>0</td>\n",
       "      <td>sales</td>\n",
       "      <td>low</td>\n",
       "    </tr>\n",
       "    <tr>\n",
       "      <th>1</th>\n",
       "      <td>0.80</td>\n",
       "      <td>0.86</td>\n",
       "      <td>5</td>\n",
       "      <td>262</td>\n",
       "      <td>6</td>\n",
       "      <td>0</td>\n",
       "      <td>1</td>\n",
       "      <td>0</td>\n",
       "      <td>sales</td>\n",
       "      <td>medium</td>\n",
       "    </tr>\n",
       "    <tr>\n",
       "      <th>2</th>\n",
       "      <td>0.11</td>\n",
       "      <td>0.88</td>\n",
       "      <td>7</td>\n",
       "      <td>272</td>\n",
       "      <td>4</td>\n",
       "      <td>0</td>\n",
       "      <td>1</td>\n",
       "      <td>0</td>\n",
       "      <td>sales</td>\n",
       "      <td>medium</td>\n",
       "    </tr>\n",
       "    <tr>\n",
       "      <th>3</th>\n",
       "      <td>0.72</td>\n",
       "      <td>0.87</td>\n",
       "      <td>5</td>\n",
       "      <td>223</td>\n",
       "      <td>5</td>\n",
       "      <td>0</td>\n",
       "      <td>1</td>\n",
       "      <td>0</td>\n",
       "      <td>sales</td>\n",
       "      <td>low</td>\n",
       "    </tr>\n",
       "    <tr>\n",
       "      <th>4</th>\n",
       "      <td>0.37</td>\n",
       "      <td>0.52</td>\n",
       "      <td>2</td>\n",
       "      <td>159</td>\n",
       "      <td>3</td>\n",
       "      <td>0</td>\n",
       "      <td>1</td>\n",
       "      <td>0</td>\n",
       "      <td>sales</td>\n",
       "      <td>low</td>\n",
       "    </tr>\n",
       "  </tbody>\n",
       "</table>\n",
       "</div>"
      ],
      "text/plain": [
       "   satisfaction_level  last_evaluation  number_project  average_montly_hours  \\\n",
       "0                0.38             0.53               2                   157   \n",
       "1                0.80             0.86               5                   262   \n",
       "2                0.11             0.88               7                   272   \n",
       "3                0.72             0.87               5                   223   \n",
       "4                0.37             0.52               2                   159   \n",
       "\n",
       "   time_spend_company  Work_accident  left  promotion_last_5years  sales  \\\n",
       "0                   3              0     1                      0  sales   \n",
       "1                   6              0     1                      0  sales   \n",
       "2                   4              0     1                      0  sales   \n",
       "3                   5              0     1                      0  sales   \n",
       "4                   3              0     1                      0  sales   \n",
       "\n",
       "   salary  \n",
       "0     low  \n",
       "1  medium  \n",
       "2  medium  \n",
       "3     low  \n",
       "4     low  "
      ]
     },
     "execution_count": 3,
     "metadata": {},
     "output_type": "execute_result"
    }
   ],
   "source": [
    "#import data set\n",
    "data=pd.read_csv(r\"C:\\Users\\anoop\\OneDrive\\Desktop\\TCS\\HR_comma_sep.csv\")\n",
    "data.head()"
   ]
  },
  {
   "cell_type": "markdown",
   "id": "8513adc6",
   "metadata": {},
   "source": [
    "# 2.DATA UNDERSTANDING"
   ]
  },
  {
   "cell_type": "code",
   "execution_count": 4,
   "id": "5dcf1a66",
   "metadata": {},
   "outputs": [
    {
     "data": {
      "text/html": [
       "<div>\n",
       "<style scoped>\n",
       "    .dataframe tbody tr th:only-of-type {\n",
       "        vertical-align: middle;\n",
       "    }\n",
       "\n",
       "    .dataframe tbody tr th {\n",
       "        vertical-align: top;\n",
       "    }\n",
       "\n",
       "    .dataframe thead th {\n",
       "        text-align: right;\n",
       "    }\n",
       "</style>\n",
       "<table border=\"1\" class=\"dataframe\">\n",
       "  <thead>\n",
       "    <tr style=\"text-align: right;\">\n",
       "      <th></th>\n",
       "      <th>satisfaction_level</th>\n",
       "      <th>last_evaluation</th>\n",
       "      <th>number_project</th>\n",
       "      <th>average_montly_hours</th>\n",
       "      <th>time_spend_company</th>\n",
       "      <th>Work_accident</th>\n",
       "      <th>left</th>\n",
       "      <th>promotion_last_5years</th>\n",
       "      <th>sales</th>\n",
       "      <th>salary</th>\n",
       "    </tr>\n",
       "  </thead>\n",
       "  <tbody>\n",
       "    <tr>\n",
       "      <th>14994</th>\n",
       "      <td>0.40</td>\n",
       "      <td>0.57</td>\n",
       "      <td>2</td>\n",
       "      <td>151</td>\n",
       "      <td>3</td>\n",
       "      <td>0</td>\n",
       "      <td>1</td>\n",
       "      <td>0</td>\n",
       "      <td>support</td>\n",
       "      <td>low</td>\n",
       "    </tr>\n",
       "    <tr>\n",
       "      <th>14995</th>\n",
       "      <td>0.37</td>\n",
       "      <td>0.48</td>\n",
       "      <td>2</td>\n",
       "      <td>160</td>\n",
       "      <td>3</td>\n",
       "      <td>0</td>\n",
       "      <td>1</td>\n",
       "      <td>0</td>\n",
       "      <td>support</td>\n",
       "      <td>low</td>\n",
       "    </tr>\n",
       "    <tr>\n",
       "      <th>14996</th>\n",
       "      <td>0.37</td>\n",
       "      <td>0.53</td>\n",
       "      <td>2</td>\n",
       "      <td>143</td>\n",
       "      <td>3</td>\n",
       "      <td>0</td>\n",
       "      <td>1</td>\n",
       "      <td>0</td>\n",
       "      <td>support</td>\n",
       "      <td>low</td>\n",
       "    </tr>\n",
       "    <tr>\n",
       "      <th>14997</th>\n",
       "      <td>0.11</td>\n",
       "      <td>0.96</td>\n",
       "      <td>6</td>\n",
       "      <td>280</td>\n",
       "      <td>4</td>\n",
       "      <td>0</td>\n",
       "      <td>1</td>\n",
       "      <td>0</td>\n",
       "      <td>support</td>\n",
       "      <td>low</td>\n",
       "    </tr>\n",
       "    <tr>\n",
       "      <th>14998</th>\n",
       "      <td>0.37</td>\n",
       "      <td>0.52</td>\n",
       "      <td>2</td>\n",
       "      <td>158</td>\n",
       "      <td>3</td>\n",
       "      <td>0</td>\n",
       "      <td>1</td>\n",
       "      <td>0</td>\n",
       "      <td>support</td>\n",
       "      <td>low</td>\n",
       "    </tr>\n",
       "  </tbody>\n",
       "</table>\n",
       "</div>"
      ],
      "text/plain": [
       "       satisfaction_level  last_evaluation  number_project  \\\n",
       "14994                0.40             0.57               2   \n",
       "14995                0.37             0.48               2   \n",
       "14996                0.37             0.53               2   \n",
       "14997                0.11             0.96               6   \n",
       "14998                0.37             0.52               2   \n",
       "\n",
       "       average_montly_hours  time_spend_company  Work_accident  left  \\\n",
       "14994                   151                   3              0     1   \n",
       "14995                   160                   3              0     1   \n",
       "14996                   143                   3              0     1   \n",
       "14997                   280                   4              0     1   \n",
       "14998                   158                   3              0     1   \n",
       "\n",
       "       promotion_last_5years    sales salary  \n",
       "14994                      0  support    low  \n",
       "14995                      0  support    low  \n",
       "14996                      0  support    low  \n",
       "14997                      0  support    low  \n",
       "14998                      0  support    low  "
      ]
     },
     "execution_count": 4,
     "metadata": {},
     "output_type": "execute_result"
    }
   ],
   "source": [
    "data.tail()"
   ]
  },
  {
   "cell_type": "code",
   "execution_count": 5,
   "id": "912e1db9",
   "metadata": {},
   "outputs": [
    {
     "data": {
      "text/plain": [
       "(14999, 10)"
      ]
     },
     "execution_count": 5,
     "metadata": {},
     "output_type": "execute_result"
    }
   ],
   "source": [
    "data.shape"
   ]
  },
  {
   "cell_type": "code",
   "execution_count": 6,
   "id": "a86772ce",
   "metadata": {},
   "outputs": [
    {
     "data": {
      "text/plain": [
       "Index(['satisfaction_level', 'last_evaluation', 'number_project',\n",
       "       'average_montly_hours', 'time_spend_company', 'Work_accident', 'left',\n",
       "       'promotion_last_5years', 'sales', 'salary'],\n",
       "      dtype='object')"
      ]
     },
     "execution_count": 6,
     "metadata": {},
     "output_type": "execute_result"
    }
   ],
   "source": [
    "data.columns"
   ]
  },
  {
   "cell_type": "code",
   "execution_count": 7,
   "id": "5ab0221f",
   "metadata": {},
   "outputs": [
    {
     "data": {
      "text/plain": [
       "satisfaction_level       float64\n",
       "last_evaluation          float64\n",
       "number_project             int64\n",
       "average_montly_hours       int64\n",
       "time_spend_company         int64\n",
       "Work_accident              int64\n",
       "left                       int64\n",
       "promotion_last_5years      int64\n",
       "sales                     object\n",
       "salary                    object\n",
       "dtype: object"
      ]
     },
     "execution_count": 7,
     "metadata": {},
     "output_type": "execute_result"
    }
   ],
   "source": [
    "data.dtypes"
   ]
  },
  {
   "cell_type": "code",
   "execution_count": 8,
   "id": "91628b56",
   "metadata": {},
   "outputs": [
    {
     "name": "stdout",
     "output_type": "stream",
     "text": [
      "<class 'pandas.core.frame.DataFrame'>\n",
      "RangeIndex: 14999 entries, 0 to 14998\n",
      "Data columns (total 10 columns):\n",
      " #   Column                 Non-Null Count  Dtype  \n",
      "---  ------                 --------------  -----  \n",
      " 0   satisfaction_level     14999 non-null  float64\n",
      " 1   last_evaluation        14999 non-null  float64\n",
      " 2   number_project         14999 non-null  int64  \n",
      " 3   average_montly_hours   14999 non-null  int64  \n",
      " 4   time_spend_company     14999 non-null  int64  \n",
      " 5   Work_accident          14999 non-null  int64  \n",
      " 6   left                   14999 non-null  int64  \n",
      " 7   promotion_last_5years  14999 non-null  int64  \n",
      " 8   sales                  14999 non-null  object \n",
      " 9   salary                 14999 non-null  object \n",
      "dtypes: float64(2), int64(6), object(2)\n",
      "memory usage: 1.1+ MB\n"
     ]
    }
   ],
   "source": [
    "data.info()"
   ]
  },
  {
   "cell_type": "code",
   "execution_count": 9,
   "id": "c799fbe2",
   "metadata": {},
   "outputs": [
    {
     "data": {
      "text/html": [
       "<div>\n",
       "<style scoped>\n",
       "    .dataframe tbody tr th:only-of-type {\n",
       "        vertical-align: middle;\n",
       "    }\n",
       "\n",
       "    .dataframe tbody tr th {\n",
       "        vertical-align: top;\n",
       "    }\n",
       "\n",
       "    .dataframe thead th {\n",
       "        text-align: right;\n",
       "    }\n",
       "</style>\n",
       "<table border=\"1\" class=\"dataframe\">\n",
       "  <thead>\n",
       "    <tr style=\"text-align: right;\">\n",
       "      <th></th>\n",
       "      <th>satisfaction_level</th>\n",
       "      <th>last_evaluation</th>\n",
       "      <th>number_project</th>\n",
       "      <th>average_montly_hours</th>\n",
       "      <th>time_spend_company</th>\n",
       "      <th>Work_accident</th>\n",
       "      <th>left</th>\n",
       "      <th>promotion_last_5years</th>\n",
       "    </tr>\n",
       "  </thead>\n",
       "  <tbody>\n",
       "    <tr>\n",
       "      <th>count</th>\n",
       "      <td>14999.000000</td>\n",
       "      <td>14999.000000</td>\n",
       "      <td>14999.000000</td>\n",
       "      <td>14999.000000</td>\n",
       "      <td>14999.000000</td>\n",
       "      <td>14999.000000</td>\n",
       "      <td>14999.000000</td>\n",
       "      <td>14999.000000</td>\n",
       "    </tr>\n",
       "    <tr>\n",
       "      <th>mean</th>\n",
       "      <td>0.612834</td>\n",
       "      <td>0.716102</td>\n",
       "      <td>3.803054</td>\n",
       "      <td>201.050337</td>\n",
       "      <td>3.498233</td>\n",
       "      <td>0.144610</td>\n",
       "      <td>0.238083</td>\n",
       "      <td>0.021268</td>\n",
       "    </tr>\n",
       "    <tr>\n",
       "      <th>std</th>\n",
       "      <td>0.248631</td>\n",
       "      <td>0.171169</td>\n",
       "      <td>1.232592</td>\n",
       "      <td>49.943099</td>\n",
       "      <td>1.460136</td>\n",
       "      <td>0.351719</td>\n",
       "      <td>0.425924</td>\n",
       "      <td>0.144281</td>\n",
       "    </tr>\n",
       "    <tr>\n",
       "      <th>min</th>\n",
       "      <td>0.090000</td>\n",
       "      <td>0.360000</td>\n",
       "      <td>2.000000</td>\n",
       "      <td>96.000000</td>\n",
       "      <td>2.000000</td>\n",
       "      <td>0.000000</td>\n",
       "      <td>0.000000</td>\n",
       "      <td>0.000000</td>\n",
       "    </tr>\n",
       "    <tr>\n",
       "      <th>25%</th>\n",
       "      <td>0.440000</td>\n",
       "      <td>0.560000</td>\n",
       "      <td>3.000000</td>\n",
       "      <td>156.000000</td>\n",
       "      <td>3.000000</td>\n",
       "      <td>0.000000</td>\n",
       "      <td>0.000000</td>\n",
       "      <td>0.000000</td>\n",
       "    </tr>\n",
       "    <tr>\n",
       "      <th>50%</th>\n",
       "      <td>0.640000</td>\n",
       "      <td>0.720000</td>\n",
       "      <td>4.000000</td>\n",
       "      <td>200.000000</td>\n",
       "      <td>3.000000</td>\n",
       "      <td>0.000000</td>\n",
       "      <td>0.000000</td>\n",
       "      <td>0.000000</td>\n",
       "    </tr>\n",
       "    <tr>\n",
       "      <th>75%</th>\n",
       "      <td>0.820000</td>\n",
       "      <td>0.870000</td>\n",
       "      <td>5.000000</td>\n",
       "      <td>245.000000</td>\n",
       "      <td>4.000000</td>\n",
       "      <td>0.000000</td>\n",
       "      <td>0.000000</td>\n",
       "      <td>0.000000</td>\n",
       "    </tr>\n",
       "    <tr>\n",
       "      <th>max</th>\n",
       "      <td>1.000000</td>\n",
       "      <td>1.000000</td>\n",
       "      <td>7.000000</td>\n",
       "      <td>310.000000</td>\n",
       "      <td>10.000000</td>\n",
       "      <td>1.000000</td>\n",
       "      <td>1.000000</td>\n",
       "      <td>1.000000</td>\n",
       "    </tr>\n",
       "  </tbody>\n",
       "</table>\n",
       "</div>"
      ],
      "text/plain": [
       "       satisfaction_level  last_evaluation  number_project  \\\n",
       "count        14999.000000     14999.000000    14999.000000   \n",
       "mean             0.612834         0.716102        3.803054   \n",
       "std              0.248631         0.171169        1.232592   \n",
       "min              0.090000         0.360000        2.000000   \n",
       "25%              0.440000         0.560000        3.000000   \n",
       "50%              0.640000         0.720000        4.000000   \n",
       "75%              0.820000         0.870000        5.000000   \n",
       "max              1.000000         1.000000        7.000000   \n",
       "\n",
       "       average_montly_hours  time_spend_company  Work_accident          left  \\\n",
       "count          14999.000000        14999.000000   14999.000000  14999.000000   \n",
       "mean             201.050337            3.498233       0.144610      0.238083   \n",
       "std               49.943099            1.460136       0.351719      0.425924   \n",
       "min               96.000000            2.000000       0.000000      0.000000   \n",
       "25%              156.000000            3.000000       0.000000      0.000000   \n",
       "50%              200.000000            3.000000       0.000000      0.000000   \n",
       "75%              245.000000            4.000000       0.000000      0.000000   \n",
       "max              310.000000           10.000000       1.000000      1.000000   \n",
       "\n",
       "       promotion_last_5years  \n",
       "count           14999.000000  \n",
       "mean                0.021268  \n",
       "std                 0.144281  \n",
       "min                 0.000000  \n",
       "25%                 0.000000  \n",
       "50%                 0.000000  \n",
       "75%                 0.000000  \n",
       "max                 1.000000  "
      ]
     },
     "execution_count": 9,
     "metadata": {},
     "output_type": "execute_result"
    }
   ],
   "source": [
    "data.describe()"
   ]
  },
  {
   "cell_type": "code",
   "execution_count": 10,
   "id": "6f177d85",
   "metadata": {},
   "outputs": [
    {
     "data": {
      "text/plain": [
       "satisfaction_level       0\n",
       "last_evaluation          0\n",
       "number_project           0\n",
       "average_montly_hours     0\n",
       "time_spend_company       0\n",
       "Work_accident            0\n",
       "left                     0\n",
       "promotion_last_5years    0\n",
       "sales                    0\n",
       "salary                   0\n",
       "dtype: int64"
      ]
     },
     "execution_count": 10,
     "metadata": {},
     "output_type": "execute_result"
    }
   ],
   "source": [
    "data.isna().sum()"
   ]
  },
  {
   "cell_type": "markdown",
   "id": "ef8c9a1d",
   "metadata": {},
   "source": [
    "INSIGHTS-\n",
    "\n",
    "1.The data set contains 14999 rows and 10 features\n",
    "\n",
    "2.There are no missing values in the data set\n"
   ]
  },
  {
   "cell_type": "markdown",
   "id": "edfe124d",
   "metadata": {},
   "source": [
    "# 3.Exploratory Data Analysis\n"
   ]
  },
  {
   "cell_type": "code",
   "execution_count": 11,
   "id": "e6aaa5da",
   "metadata": {},
   "outputs": [
    {
     "data": {
      "text/plain": [
       "[]"
      ]
     },
     "execution_count": 11,
     "metadata": {},
     "output_type": "execute_result"
    },
    {
     "data": {
      "image/png": "[encoded data removed]",
      "text/plain": [
       "<Figure size 576x576 with 9 Axes>"
      ]
     },
     "metadata": {
      "needs_background": "light"
     },
     "output_type": "display_data"
    }
   ],
   "source": [
    "data.hist(figsize=(8,8))\n",
    "plt.plot()"
   ]
  },
  {
   "cell_type": "code",
   "execution_count": 12,
   "id": "c59d02f9",
   "metadata": {},
   "outputs": [
    {
     "data": {
      "text/plain": [
       "(array([1, 2, 3, 4, 5, 6, 7, 8]),\n",
       " [Text(1, 0, 'satisfaction_level'),\n",
       "  Text(2, 0, 'last_evaluation'),\n",
       "  Text(3, 0, 'number_project'),\n",
       "  Text(4, 0, 'average_montly_hours'),\n",
       "  Text(5, 0, 'time_spend_company'),\n",
       "  Text(6, 0, 'Work_accident'),\n",
       "  Text(7, 0, 'left'),\n",
       "  Text(8, 0, 'promotion_last_5years')])"
      ]
     },
     "execution_count": 12,
     "metadata": {},
     "output_type": "execute_result"
    },
    {
     "data": {
      "image/png": "[encoded data removed]",
      "text/plain": [
       "<Figure size 576x576 with 1 Axes>"
      ]
     },
     "metadata": {
      "needs_background": "light"
     },
     "output_type": "display_data"
    }
   ],
   "source": [
    "# plotting boxplots\n",
    "\n",
    "plt.figure(figsize=(8, 8))\n",
    "data.boxplot()\n",
    "plt.xticks(rotation=90) "
   ]
  },
  {
   "cell_type": "markdown",
   "id": "585b1208",
   "metadata": {},
   "source": [
    "Here, we have plotted the boxplots. From this, we will be able to detect the outliers in the given dataset. We will handle these outliers during pre-processing."
   ]
  },
  {
   "cell_type": "code",
   "execution_count": 13,
   "id": "9c4d45fb",
   "metadata": {},
   "outputs": [
    {
     "data": {
      "text/plain": [
       "(-1.1117282844553995,\n",
       " 1.100558491893902,\n",
       " -1.1012479675332278,\n",
       " 1.1108291003886333)"
      ]
     },
     "execution_count": 13,
     "metadata": {},
     "output_type": "execute_result"
    },
    {
     "data": {
      "image/png": "[encoded data removed]",
      "text/plain": [
       "<Figure size 576x576 with 1 Axes>"
      ]
     },
     "metadata": {},
     "output_type": "display_data"
    }
   ],
   "source": [
    "plt.figure(figsize=(8, 8))\n",
    "data['sales'].value_counts().plot(kind='pie')\n",
    "plt.title(\"Sales\",size=20)\n",
    "plt.axis('equal')"
   ]
  },
  {
   "cell_type": "code",
   "execution_count": 14,
   "id": "6d56c5f6",
   "metadata": {},
   "outputs": [
    {
     "data": {
      "text/plain": [
       "sales          4140\n",
       "technical      2720\n",
       "support        2229\n",
       "IT             1227\n",
       "product_mng     902\n",
       "marketing       858\n",
       "RandD           787\n",
       "accounting      767\n",
       "hr              739\n",
       "management      630\n",
       "Name: sales, dtype: int64"
      ]
     },
     "execution_count": 14,
     "metadata": {},
     "output_type": "execute_result"
    }
   ],
   "source": [
    "data['sales'].value_counts()"
   ]
  },
  {
   "cell_type": "markdown",
   "id": "9de38c0e",
   "metadata": {},
   "source": [
    "The maximum employees is in the sales department while the management department have the minimum employees.\n",
    "    \n",
    "    "
   ]
  },
  {
   "cell_type": "code",
   "execution_count": 15,
   "id": "6b13f5a8",
   "metadata": {},
   "outputs": [
    {
     "data": {
      "image/png": "[encoded data removed]",
      "text/plain": [
       "<Figure size 1080x720 with 1 Axes>"
      ]
     },
     "metadata": {
      "needs_background": "light"
     },
     "output_type": "display_data"
    }
   ],
   "source": [
    "plt.figure(figsize=(15, 10))\n",
    "plt.style.use(\"seaborn\")\n",
    "ax = sns.countplot(x=\"salary\",data=data,hue='sales')\n",
    "plt.title(\"Salary of Sales\",size=15)\n",
    "for p in ax.patches:\n",
    "    ax.annotate(p.get_height(), (p.get_x() + p.get_width() / 2., p.get_height()), ha = 'center', va = 'center', \n",
    "                xytext = (0, 10), textcoords = 'offset points')"
   ]
  },
  {
   "cell_type": "markdown",
   "id": "4c100a2a",
   "metadata": {},
   "source": [
    "The above graph shows the salary distribution among different departments"
   ]
  },
  {
   "cell_type": "code",
   "execution_count": 16,
   "id": "95105834",
   "metadata": {},
   "outputs": [
    {
     "data": {
      "image/png": "[encoded data removed]",
      "text/plain": [
       "<Figure size 288x576 with 1 Axes>"
      ]
     },
     "metadata": {},
     "output_type": "display_data"
    }
   ],
   "source": [
    "plt.figure(figsize=(4, 8))\n",
    "plt.style.use(\"seaborn\")\n",
    "ax = sns.countplot(x=\"promotion_last_5years\",data=data)\n",
    "plt.title(\"promotion_last_5years\",size=15);\n",
    "for p in ax.patches:\n",
    "    ax.annotate(p.get_height(), (p.get_x() + p.get_width() / 2., p.get_height()), ha = 'center', va = 'center', xytext = (0, 10), \n",
    "                textcoords = 'offset points')\n"
   ]
  },
  {
   "cell_type": "markdown",
   "id": "67822f82",
   "metadata": {},
   "source": [
    "Only 319 employees were promoted in the last 5 years"
   ]
  },
  {
   "cell_type": "code",
   "execution_count": 17,
   "id": "1c9f7233",
   "metadata": {},
   "outputs": [
    {
     "data": {
      "image/png": "[encoded data removed]",
      "text/plain": [
       "<Figure size 1080x720 with 1 Axes>"
      ]
     },
     "metadata": {},
     "output_type": "display_data"
    }
   ],
   "source": [
    "plt.figure(figsize=(15, 10))\n",
    "plt.style.use(\"seaborn\")\n",
    "ax = sns.countplot(x=\"salary\",data=data,hue='time_spend_company')\n",
    "plt.title(\"Graph of Salary according to the time spend in the company\",size=15)\n",
    "for p in ax.patches:\n",
    "    ax.annotate(p.get_height(), (p.get_x() + p.get_width() / 2., p.get_height()), ha = 'center', va = 'center', \n",
    "                xytext = (0, 10), textcoords = 'offset points')"
   ]
  },
  {
   "cell_type": "markdown",
   "id": "c5dde208",
   "metadata": {},
   "source": [
    "The graph shows the salary distribution along with the no.of years of the employees worked in the company"
   ]
  },
  {
   "cell_type": "code",
   "execution_count": 18,
   "id": "9c6ba894",
   "metadata": {},
   "outputs": [
    {
     "data": {
      "image/png": "[encoded data removed]",
      "text/plain": [
       "<Figure size 1080x720 with 1 Axes>"
      ]
     },
     "metadata": {},
     "output_type": "display_data"
    }
   ],
   "source": [
    "plt.figure(figsize=(15, 10))\n",
    "plt.style.use(\"seaborn\")\n",
    "ax = sns.countplot(x=\"salary\",data=data,hue='promotion_last_5years')\n",
    "plt.title(\"Graph of Salary according to the promotions in last 5 years\",size=15)\n",
    "for p in ax.patches:\n",
    "    ax.annotate(p.get_height(), (p.get_x() + p.get_width() / 2., p.get_height()), ha = 'center', va = 'center', \n",
    "                xytext = (0, 10), textcoords = 'offset points')"
   ]
  },
  {
   "cell_type": "markdown",
   "id": "6b84f9eb",
   "metadata": {},
   "source": [
    "The graph illustrate the salary distribution along with the promotion in the last 5 years"
   ]
  },
  {
   "cell_type": "code",
   "execution_count": 19,
   "id": "e3b89370",
   "metadata": {},
   "outputs": [
    {
     "data": {
      "image/png": "[encoded data removed]",
      "text/plain": [
       "<Figure size 1080x720 with 1 Axes>"
      ]
     },
     "metadata": {},
     "output_type": "display_data"
    }
   ],
   "source": [
    "plt.figure(figsize=(15, 10))\n",
    "plt.style.use(\"seaborn\")\n",
    "ax = sns.countplot(x=\"salary\",data=data,hue='left')\n",
    "plt.title(\"Graph of the salary in correspondence to left\",size=15)\n",
    "for p in ax.patches:\n",
    "    ax.annotate(p.get_height(), (p.get_x() + p.get_width() / 2., p.get_height()), ha = 'center', va = 'center', \n",
    "                xytext = (0, 10), textcoords = 'offset points')"
   ]
  },
  {
   "cell_type": "markdown",
   "id": "a46827f0",
   "metadata": {},
   "source": [
    "The graph shows the the salary distrubution along with the no.of employees left"
   ]
  },
  {
   "cell_type": "code",
   "execution_count": 20,
   "id": "bebbe3ab",
   "metadata": {},
   "outputs": [
    {
     "data": {
      "image/png": "[encoded data removed]",
      "text/plain": [
       "<Figure size 1080x720 with 1 Axes>"
      ]
     },
     "metadata": {},
     "output_type": "display_data"
    }
   ],
   "source": [
    "plt.figure(figsize=(15, 10))\n",
    "plt.style.use(\"seaborn\")\n",
    "ax = sns.countplot(x=\"sales\",data=data,hue='left')\n",
    "plt.title(\"Graph of the salary in correspondence to left\",size=15)\n",
    "for p in ax.patches:\n",
    "    ax.annotate(p.get_height(), (p.get_x() + p.get_width() / 2., p.get_height()), ha = 'center', va = 'center', \n",
    "                xytext = (0, 10), textcoords = 'offset points')"
   ]
  },
  {
   "cell_type": "markdown",
   "id": "9bfd9e55",
   "metadata": {},
   "source": [
    "The graph shows the the departments along with the no.of employees left"
   ]
  },
  {
   "cell_type": "code",
   "execution_count": 21,
   "id": "842f71fb",
   "metadata": {},
   "outputs": [
    {
     "data": {
      "image/png": "[encoded data removed]",
      "text/plain": [
       "<Figure size 864x432 with 1 Axes>"
      ]
     },
     "metadata": {},
     "output_type": "display_data"
    }
   ],
   "source": [
    "plt.figure(figsize=(12,6))\n",
    "sns.lineplot(x='sales', y='satisfaction_level', hue='salary', data= data)\n",
    "plt.show()"
   ]
  },
  {
   "cell_type": "markdown",
   "id": "545a14f6",
   "metadata": {},
   "source": [
    "The graph shows the satistaction level of employees of each department corresponding to their salary"
   ]
  },
  {
   "cell_type": "code",
   "execution_count": 22,
   "id": "7941932e",
   "metadata": {},
   "outputs": [
    {
     "data": {
      "image/png": "[encoded data removed]",
      "text/plain": [
       "<Figure size 864x432 with 1 Axes>"
      ]
     },
     "metadata": {},
     "output_type": "display_data"
    }
   ],
   "source": [
    "plt.figure(figsize=(12,6))\n",
    "sns.lineplot(x='sales', y='average_montly_hours', hue='salary', data= data)\n",
    "plt.show()"
   ]
  },
  {
   "cell_type": "markdown",
   "id": "a383e3a6",
   "metadata": {},
   "source": [
    "The graph shows the average_montly_hours of employees of each department corresponding to their salary"
   ]
  },
  {
   "cell_type": "code",
   "execution_count": 23,
   "id": "21b3819e",
   "metadata": {},
   "outputs": [
    {
     "data": {
      "text/plain": [
       "salary  sales      \n",
       "high    sales           269\n",
       "        management      225\n",
       "        technical       201\n",
       "        support         141\n",
       "        IT               83\n",
       "        marketing        80\n",
       "        accounting       74\n",
       "        product_mng      68\n",
       "        RandD            51\n",
       "        hr               45\n",
       "low     sales          2099\n",
       "        technical      1372\n",
       "        support        1146\n",
       "        IT              609\n",
       "        product_mng     451\n",
       "        marketing       402\n",
       "        RandD           364\n",
       "        accounting      358\n",
       "        hr              335\n",
       "        management      180\n",
       "medium  sales          1772\n",
       "        technical      1147\n",
       "        support         942\n",
       "        IT              535\n",
       "        product_mng     383\n",
       "        marketing       376\n",
       "        RandD           372\n",
       "        hr              359\n",
       "        accounting      335\n",
       "        management      225\n",
       "Name: sales, dtype: int64"
      ]
     },
     "execution_count": 23,
     "metadata": {},
     "output_type": "execute_result"
    }
   ],
   "source": [
    "data.groupby('salary')['sales'].value_counts()"
   ]
  },
  {
   "cell_type": "code",
   "execution_count": 24,
   "id": "e71e53e4",
   "metadata": {},
   "outputs": [
    {
     "data": {
      "text/plain": [
       "promotion_last_5years  sales      \n",
       "0                      sales          4040\n",
       "                       technical      2692\n",
       "                       support        2209\n",
       "                       IT             1224\n",
       "                       product_mng     902\n",
       "                       marketing       815\n",
       "                       RandD           760\n",
       "                       accounting      753\n",
       "                       hr              724\n",
       "                       management      561\n",
       "1                      sales           100\n",
       "                       management       69\n",
       "                       marketing        43\n",
       "                       technical        28\n",
       "                       RandD            27\n",
       "                       support          20\n",
       "                       hr               15\n",
       "                       accounting       14\n",
       "                       IT                3\n",
       "Name: sales, dtype: int64"
      ]
     },
     "execution_count": 24,
     "metadata": {},
     "output_type": "execute_result"
    }
   ],
   "source": [
    "data.groupby('promotion_last_5years')['sales'].value_counts()"
   ]
  },
  {
   "cell_type": "markdown",
   "id": "6cc903f4",
   "metadata": {},
   "source": [
    "INSIGHTS:\n",
    "    \n",
    "    1.The presence of outliers are identified\n",
    "    2.The maximum employees is in the sales department while the management department have the minimum employees.\n",
    "    3.Only 319 employees were promoted in the last 5 years\n",
    "    4.Out of the 319 promotions only 66 were made from the employees with low salary\n",
    "    5.The majority of the employees of left their job was with low salary.\n",
    "    6.Majority of the employees left was from the sales department\n",
    "    7.Years of work experience within the company alone doesn't affect the salary of the employees.\n",
    "    8.In IT,marketing,accounting,product_mng,RandD and management departments,the high salary paid to the employees who work for more hours.        \n",
    "              \n",
    "         \n",
    "    \n",
    "    "
   ]
  },
  {
   "cell_type": "markdown",
   "id": "e8d608bf",
   "metadata": {},
   "source": [
    "# 2.DATA PRE-PROCESSING"
   ]
  },
  {
   "cell_type": "markdown",
   "id": "65a2cfff",
   "metadata": {},
   "source": [
    "# Handling Null Values"
   ]
  },
  {
   "cell_type": "code",
   "execution_count": 25,
   "id": "463ec99e",
   "metadata": {},
   "outputs": [
    {
     "data": {
      "text/plain": [
       "satisfaction_level       0\n",
       "last_evaluation          0\n",
       "number_project           0\n",
       "average_montly_hours     0\n",
       "time_spend_company       0\n",
       "Work_accident            0\n",
       "left                     0\n",
       "promotion_last_5years    0\n",
       "sales                    0\n",
       "salary                   0\n",
       "dtype: int64"
      ]
     },
     "execution_count": 25,
     "metadata": {},
     "output_type": "execute_result"
    }
   ],
   "source": [
    "data.isnull().sum()"
   ]
  },
  {
   "cell_type": "markdown",
   "id": "1ac3c2bd",
   "metadata": {},
   "source": [
    "There are no null values in the data set"
   ]
  },
  {
   "cell_type": "markdown",
   "id": "9ada536f",
   "metadata": {},
   "source": [
    "# HANDLING OUTLIERS"
   ]
  },
  {
   "cell_type": "code",
   "execution_count": 26,
   "id": "8bb945e2",
   "metadata": {},
   "outputs": [
    {
     "data": {
      "image/png": "[encoded data removed]",
      "text/plain": [
       "<Figure size 1080x1080 with 20 Axes>"
      ]
     },
     "metadata": {},
     "output_type": "display_data"
    }
   ],
   "source": [
    "#plotting boxplot\n",
    "data.plot(kind='box',subplots=True,layout=(4,5),figsize=(15,15),title='Outlier Visualization')\n",
    "plt.show()"
   ]
  },
  {
   "cell_type": "markdown",
   "id": "c5fc83fa",
   "metadata": {},
   "source": [
    "The presence of outliers are identified in the the following features:\n",
    "    time_spend_company,Work_accident,left and promotion_last_5years"
   ]
  },
  {
   "cell_type": "code",
   "execution_count": 27,
   "id": "02a98337",
   "metadata": {},
   "outputs": [
    {
     "data": {
      "text/plain": [
       "Text(0.5, 1.0, 'Box Plot of  time_spend_company')"
      ]
     },
     "execution_count": 27,
     "metadata": {},
     "output_type": "execute_result"
    },
    {
     "data": {
      "image/png": "[encoded data removed]",
      "text/plain": [
       "<Figure size 576x396 with 1 Axes>"
      ]
     },
     "metadata": {},
     "output_type": "display_data"
    }
   ],
   "source": [
    "#case 1: time_spend_company \n",
    "#checking the outlier in time_spend_company\n",
    "plt.boxplot(data['time_spend_company'])\n",
    "plt.title('Box Plot of  time_spend_company')"
   ]
  },
  {
   "cell_type": "code",
   "execution_count": 28,
   "id": "3b806cbc",
   "metadata": {},
   "outputs": [
    {
     "name": "stdout",
     "output_type": "stream",
     "text": [
      "3.0\n",
      "3.0\n",
      "4.0\n",
      "1.5\n",
      "5.5\n"
     ]
    }
   ],
   "source": [
    "Q1=np.percentile(data['time_spend_company'],25,interpolation='midpoint')\n",
    "Q2=np.percentile(data['time_spend_company'],50,interpolation='midpoint')   \n",
    "Q3=np.percentile(data['time_spend_company'],75,interpolation='midpoint')\n",
    "print(Q1)\n",
    "print(Q2)\n",
    "print(Q3) \n",
    "\n",
    "#finding IQR\n",
    "IQR=Q3-Q1\n",
    "low_lim=Q1-1.5*IQR\n",
    "up_lim=Q3+1.5*IQR\n",
    "print(low_lim)          \n",
    "print(up_lim)"
   ]
  },
  {
   "cell_type": "code",
   "execution_count": 29,
   "id": "a3b12084",
   "metadata": {},
   "outputs": [
    {
     "data": {
      "text/plain": [
       "1282"
      ]
     },
     "execution_count": 29,
     "metadata": {},
     "output_type": "execute_result"
    }
   ],
   "source": [
    "#removing outlier using for loop\n",
    "outlier=[]\n",
    "for x in data['time_spend_company']:\n",
    "    if((x>up_lim)or(x<low_lim)):\n",
    "        outlier.append(x)\n",
    "        \n",
    "len(outlier)"
   ]
  },
  {
   "cell_type": "code",
   "execution_count": 30,
   "id": "56643c49",
   "metadata": {},
   "outputs": [
    {
     "data": {
      "text/plain": [
       "Text(0.5, 1.0, 'Box plot of time_spend_company')"
      ]
     },
     "execution_count": 30,
     "metadata": {},
     "output_type": "execute_result"
    },
    {
     "data": {
      "image/png": "[encoded data removed]",
      "text/plain": [
       "<Figure size 576x396 with 1 Axes>"
      ]
     },
     "metadata": {},
     "output_type": "display_data"
    }
   ],
   "source": [
    "#Removing the outliers\n",
    "ind1=data['time_spend_company']>up_lim\n",
    "data.loc[ind1].index\n",
    "data.drop(data.loc[ind1].index,inplace=True)\n",
    "plt.boxplot(data['time_spend_company'])\n",
    "plt.title('Box plot of time_spend_company')"
   ]
  },
  {
   "cell_type": "code",
   "execution_count": 31,
   "id": "5d8a52b8",
   "metadata": {
    "scrolled": true
   },
   "outputs": [
    {
     "data": {
      "text/plain": [
       "Text(0.5, 1.0, 'Box Plot of Work_accident')"
      ]
     },
     "execution_count": 31,
     "metadata": {},
     "output_type": "execute_result"
    },
    {
     "data": {
      "image/png": "[encoded data removed]",
      "text/plain": [
       "<Figure size 576x396 with 1 Axes>"
      ]
     },
     "metadata": {},
     "output_type": "display_data"
    }
   ],
   "source": [
    "#case 2:  Work_accident \n",
    "#checking the outlier in Work_accident\n",
    "plt.boxplot(data['Work_accident'])\n",
    "plt.title('Box Plot of Work_accident')  "
   ]
  },
  {
   "cell_type": "code",
   "execution_count": 32,
   "id": "a7db6d17",
   "metadata": {},
   "outputs": [
    {
     "name": "stdout",
     "output_type": "stream",
     "text": [
      "0.0\n",
      "0.0\n",
      "0.0\n",
      "0.0\n",
      "0.0\n"
     ]
    }
   ],
   "source": [
    "Q1=np.percentile(data['Work_accident'],25,interpolation='midpoint')\n",
    "Q2=np.percentile(data['Work_accident'],50,interpolation='midpoint')   \n",
    "Q3=np.percentile(data['Work_accident'],75,interpolation='midpoint')\n",
    "print(Q1)\n",
    "print(Q2)\n",
    "print(Q3) \n",
    "\n",
    "#finding IQR\n",
    "IQR=Q3-Q1\n",
    "low_lim=Q1-1.5*IQR\n",
    "up_lim=Q3+1.5*IQR\n",
    "print(low_lim)          \n",
    "print(up_lim)"
   ]
  },
  {
   "cell_type": "code",
   "execution_count": 33,
   "id": "6111bf70",
   "metadata": {},
   "outputs": [],
   "source": [
    "#removing outlier using for loop\n",
    "outlier=[]\n",
    "for x in data['Work_accident']:\n",
    "    if((x>up_lim)or(x<low_lim)):\n",
    "        outlier.append(x)\n"
   ]
  },
  {
   "cell_type": "code",
   "execution_count": 34,
   "id": "4ba91c17",
   "metadata": {},
   "outputs": [
    {
     "data": {
      "text/plain": [
       "1942"
      ]
     },
     "execution_count": 34,
     "metadata": {},
     "output_type": "execute_result"
    }
   ],
   "source": [
    "len(outlier)"
   ]
  },
  {
   "cell_type": "code",
   "execution_count": 35,
   "id": "121025ad",
   "metadata": {},
   "outputs": [
    {
     "data": {
      "text/plain": [
       "Text(0.5, 1.0, 'Box plot of Work_accident')"
      ]
     },
     "execution_count": 35,
     "metadata": {},
     "output_type": "execute_result"
    },
    {
     "data": {
      "image/png": "[encoded data removed]",
      "text/plain": [
       "<Figure size 576x396 with 1 Axes>"
      ]
     },
     "metadata": {},
     "output_type": "display_data"
    }
   ],
   "source": [
    "#Removing the outliers\n",
    "ind2=data['Work_accident']>up_lim\n",
    "data.loc[ind2].index\n",
    "data.drop(data.loc[ind2].index,inplace=True)\n",
    "plt.boxplot(data['Work_accident'])\n",
    "plt.title('Box plot of Work_accident')"
   ]
  },
  {
   "cell_type": "code",
   "execution_count": 36,
   "id": "f93dafdd",
   "metadata": {},
   "outputs": [
    {
     "data": {
      "text/plain": [
       "Text(0.5, 1.0, 'Box Plot of left')"
      ]
     },
     "execution_count": 36,
     "metadata": {},
     "output_type": "execute_result"
    },
    {
     "data": {
      "image/png": "[encoded data removed]",
      "text/plain": [
       "<Figure size 576x396 with 1 Axes>"
      ]
     },
     "metadata": {},
     "output_type": "display_data"
    }
   ],
   "source": [
    "#case 3:  left\n",
    "#checking the outlier in left\n",
    "plt.boxplot(data['left'])\n",
    "plt.title('Box Plot of left') "
   ]
  },
  {
   "cell_type": "code",
   "execution_count": 37,
   "id": "a6fdc4e1",
   "metadata": {},
   "outputs": [
    {
     "data": {
      "text/plain": [
       "Text(0.5, 1.0, 'Box Plot of promotion_last_5years')"
      ]
     },
     "execution_count": 37,
     "metadata": {},
     "output_type": "execute_result"
    },
    {
     "data": {
      "image/png": "[encoded data removed]",
      "text/plain": [
       "<Figure size 576x396 with 1 Axes>"
      ]
     },
     "metadata": {},
     "output_type": "display_data"
    }
   ],
   "source": [
    "#case 4:  promotion_last_5years\n",
    "#checking the outlier in promotion_last_5years\n",
    "plt.boxplot(data['promotion_last_5years'])\n",
    "plt.title('Box Plot of promotion_last_5years') "
   ]
  },
  {
   "cell_type": "code",
   "execution_count": 38,
   "id": "0f113e22",
   "metadata": {},
   "outputs": [
    {
     "name": "stdout",
     "output_type": "stream",
     "text": [
      "0.0\n",
      "0.0\n",
      "0.0\n",
      "0.0\n",
      "0.0\n"
     ]
    }
   ],
   "source": [
    "Q1=np.percentile(data['promotion_last_5years'],25,interpolation='midpoint')\n",
    "Q2=np.percentile(data['promotion_last_5years'],50,interpolation='midpoint')   \n",
    "Q3=np.percentile(data['promotion_last_5years'],75,interpolation='midpoint')\n",
    "print(Q1)\n",
    "print(Q2)\n",
    "print(Q3) \n",
    "\n",
    "#finding IQR\n",
    "IQR=Q3-Q1\n",
    "low_lim=Q1-1.5*IQR\n",
    "up_lim=Q3+1.5*IQR\n",
    "print(low_lim)          \n",
    "print(up_lim)"
   ]
  },
  {
   "cell_type": "code",
   "execution_count": 39,
   "id": "fc745ba8",
   "metadata": {},
   "outputs": [
    {
     "data": {
      "text/plain": [
       "183"
      ]
     },
     "execution_count": 39,
     "metadata": {},
     "output_type": "execute_result"
    }
   ],
   "source": [
    "#removing outlier using for loop\n",
    "outlier=[]\n",
    "for x in data['promotion_last_5years']:\n",
    "    if((x>up_lim)or(x<low_lim)):\n",
    "        outlier.append(x)\n",
    "        \n",
    "len(outlier)"
   ]
  },
  {
   "cell_type": "code",
   "execution_count": 40,
   "id": "6f263f9b",
   "metadata": {},
   "outputs": [
    {
     "data": {
      "text/plain": [
       "Text(0.5, 1.0, 'Box plot of promotion_last_5years')"
      ]
     },
     "execution_count": 40,
     "metadata": {},
     "output_type": "execute_result"
    },
    {
     "data": {
      "image/png": "[encoded data removed]",
      "text/plain": [
       "<Figure size 576x396 with 1 Axes>"
      ]
     },
     "metadata": {},
     "output_type": "display_data"
    }
   ],
   "source": [
    "#Removing the outliers\n",
    "ind3=data['promotion_last_5years']>up_lim\n",
    "data.loc[ind3].index\n",
    "data.drop(data.loc[ind3].index,inplace=True)\n",
    "plt.boxplot(data['promotion_last_5years'])\n",
    "plt.title('Box plot of promotion_last_5years')"
   ]
  },
  {
   "cell_type": "code",
   "execution_count": 41,
   "id": "6ad25163",
   "metadata": {},
   "outputs": [
    {
     "data": {
      "text/plain": [
       "(11592, 10)"
      ]
     },
     "execution_count": 41,
     "metadata": {},
     "output_type": "execute_result"
    }
   ],
   "source": [
    "data.shape"
   ]
  },
  {
   "cell_type": "markdown",
   "id": "12c3adb4",
   "metadata": {},
   "source": [
    "Insights :\n",
    "    \n",
    "    1.No missing values are identified \n",
    "    2.The presence of outliers are identified in the the following features:\n",
    "        time_spend_company,Work_accident,left and promotion_last_5years\n",
    "      The outliers are removed from the data set.\n",
    "    3.The no.of rows decreased to 11592 after removing the outliers.\n",
    "       "
   ]
  },
  {
   "cell_type": "markdown",
   "id": "5fb356e2",
   "metadata": {},
   "source": [
    "# Encoding"
   ]
  },
  {
   "cell_type": "code",
   "execution_count": 42,
   "id": "b062f056",
   "metadata": {},
   "outputs": [
    {
     "data": {
      "text/plain": [
       "10"
      ]
     },
     "execution_count": 42,
     "metadata": {},
     "output_type": "execute_result"
    }
   ],
   "source": [
    "data.sales.nunique()"
   ]
  },
  {
   "cell_type": "code",
   "execution_count": 43,
   "id": "f28a7985",
   "metadata": {},
   "outputs": [
    {
     "data": {
      "text/html": [
       "<div>\n",
       "<style scoped>\n",
       "    .dataframe tbody tr th:only-of-type {\n",
       "        vertical-align: middle;\n",
       "    }\n",
       "\n",
       "    .dataframe tbody tr th {\n",
       "        vertical-align: top;\n",
       "    }\n",
       "\n",
       "    .dataframe thead th {\n",
       "        text-align: right;\n",
       "    }\n",
       "</style>\n",
       "<table border=\"1\" class=\"dataframe\">\n",
       "  <thead>\n",
       "    <tr style=\"text-align: right;\">\n",
       "      <th></th>\n",
       "      <th>satisfaction_level</th>\n",
       "      <th>last_evaluation</th>\n",
       "      <th>number_project</th>\n",
       "      <th>average_montly_hours</th>\n",
       "      <th>time_spend_company</th>\n",
       "      <th>Work_accident</th>\n",
       "      <th>left</th>\n",
       "      <th>promotion_last_5years</th>\n",
       "      <th>salary</th>\n",
       "      <th>RandD</th>\n",
       "      <th>accounting</th>\n",
       "      <th>hr</th>\n",
       "      <th>management</th>\n",
       "      <th>marketing</th>\n",
       "      <th>product_mng</th>\n",
       "      <th>sales</th>\n",
       "      <th>support</th>\n",
       "      <th>technical</th>\n",
       "    </tr>\n",
       "  </thead>\n",
       "  <tbody>\n",
       "    <tr>\n",
       "      <th>0</th>\n",
       "      <td>0.38</td>\n",
       "      <td>0.53</td>\n",
       "      <td>2</td>\n",
       "      <td>157</td>\n",
       "      <td>3</td>\n",
       "      <td>0</td>\n",
       "      <td>1</td>\n",
       "      <td>0</td>\n",
       "      <td>low</td>\n",
       "      <td>0</td>\n",
       "      <td>0</td>\n",
       "      <td>0</td>\n",
       "      <td>0</td>\n",
       "      <td>0</td>\n",
       "      <td>0</td>\n",
       "      <td>1</td>\n",
       "      <td>0</td>\n",
       "      <td>0</td>\n",
       "    </tr>\n",
       "    <tr>\n",
       "      <th>2</th>\n",
       "      <td>0.11</td>\n",
       "      <td>0.88</td>\n",
       "      <td>7</td>\n",
       "      <td>272</td>\n",
       "      <td>4</td>\n",
       "      <td>0</td>\n",
       "      <td>1</td>\n",
       "      <td>0</td>\n",
       "      <td>medium</td>\n",
       "      <td>0</td>\n",
       "      <td>0</td>\n",
       "      <td>0</td>\n",
       "      <td>0</td>\n",
       "      <td>0</td>\n",
       "      <td>0</td>\n",
       "      <td>1</td>\n",
       "      <td>0</td>\n",
       "      <td>0</td>\n",
       "    </tr>\n",
       "    <tr>\n",
       "      <th>3</th>\n",
       "      <td>0.72</td>\n",
       "      <td>0.87</td>\n",
       "      <td>5</td>\n",
       "      <td>223</td>\n",
       "      <td>5</td>\n",
       "      <td>0</td>\n",
       "      <td>1</td>\n",
       "      <td>0</td>\n",
       "      <td>low</td>\n",
       "      <td>0</td>\n",
       "      <td>0</td>\n",
       "      <td>0</td>\n",
       "      <td>0</td>\n",
       "      <td>0</td>\n",
       "      <td>0</td>\n",
       "      <td>1</td>\n",
       "      <td>0</td>\n",
       "      <td>0</td>\n",
       "    </tr>\n",
       "    <tr>\n",
       "      <th>4</th>\n",
       "      <td>0.37</td>\n",
       "      <td>0.52</td>\n",
       "      <td>2</td>\n",
       "      <td>159</td>\n",
       "      <td>3</td>\n",
       "      <td>0</td>\n",
       "      <td>1</td>\n",
       "      <td>0</td>\n",
       "      <td>low</td>\n",
       "      <td>0</td>\n",
       "      <td>0</td>\n",
       "      <td>0</td>\n",
       "      <td>0</td>\n",
       "      <td>0</td>\n",
       "      <td>0</td>\n",
       "      <td>1</td>\n",
       "      <td>0</td>\n",
       "      <td>0</td>\n",
       "    </tr>\n",
       "    <tr>\n",
       "      <th>5</th>\n",
       "      <td>0.41</td>\n",
       "      <td>0.50</td>\n",
       "      <td>2</td>\n",
       "      <td>153</td>\n",
       "      <td>3</td>\n",
       "      <td>0</td>\n",
       "      <td>1</td>\n",
       "      <td>0</td>\n",
       "      <td>low</td>\n",
       "      <td>0</td>\n",
       "      <td>0</td>\n",
       "      <td>0</td>\n",
       "      <td>0</td>\n",
       "      <td>0</td>\n",
       "      <td>0</td>\n",
       "      <td>1</td>\n",
       "      <td>0</td>\n",
       "      <td>0</td>\n",
       "    </tr>\n",
       "    <tr>\n",
       "      <th>...</th>\n",
       "      <td>...</td>\n",
       "      <td>...</td>\n",
       "      <td>...</td>\n",
       "      <td>...</td>\n",
       "      <td>...</td>\n",
       "      <td>...</td>\n",
       "      <td>...</td>\n",
       "      <td>...</td>\n",
       "      <td>...</td>\n",
       "      <td>...</td>\n",
       "      <td>...</td>\n",
       "      <td>...</td>\n",
       "      <td>...</td>\n",
       "      <td>...</td>\n",
       "      <td>...</td>\n",
       "      <td>...</td>\n",
       "      <td>...</td>\n",
       "      <td>...</td>\n",
       "    </tr>\n",
       "    <tr>\n",
       "      <th>14994</th>\n",
       "      <td>0.40</td>\n",
       "      <td>0.57</td>\n",
       "      <td>2</td>\n",
       "      <td>151</td>\n",
       "      <td>3</td>\n",
       "      <td>0</td>\n",
       "      <td>1</td>\n",
       "      <td>0</td>\n",
       "      <td>low</td>\n",
       "      <td>0</td>\n",
       "      <td>0</td>\n",
       "      <td>0</td>\n",
       "      <td>0</td>\n",
       "      <td>0</td>\n",
       "      <td>0</td>\n",
       "      <td>0</td>\n",
       "      <td>1</td>\n",
       "      <td>0</td>\n",
       "    </tr>\n",
       "    <tr>\n",
       "      <th>14995</th>\n",
       "      <td>0.37</td>\n",
       "      <td>0.48</td>\n",
       "      <td>2</td>\n",
       "      <td>160</td>\n",
       "      <td>3</td>\n",
       "      <td>0</td>\n",
       "      <td>1</td>\n",
       "      <td>0</td>\n",
       "      <td>low</td>\n",
       "      <td>0</td>\n",
       "      <td>0</td>\n",
       "      <td>0</td>\n",
       "      <td>0</td>\n",
       "      <td>0</td>\n",
       "      <td>0</td>\n",
       "      <td>0</td>\n",
       "      <td>1</td>\n",
       "      <td>0</td>\n",
       "    </tr>\n",
       "    <tr>\n",
       "      <th>14996</th>\n",
       "      <td>0.37</td>\n",
       "      <td>0.53</td>\n",
       "      <td>2</td>\n",
       "      <td>143</td>\n",
       "      <td>3</td>\n",
       "      <td>0</td>\n",
       "      <td>1</td>\n",
       "      <td>0</td>\n",
       "      <td>low</td>\n",
       "      <td>0</td>\n",
       "      <td>0</td>\n",
       "      <td>0</td>\n",
       "      <td>0</td>\n",
       "      <td>0</td>\n",
       "      <td>0</td>\n",
       "      <td>0</td>\n",
       "      <td>1</td>\n",
       "      <td>0</td>\n",
       "    </tr>\n",
       "    <tr>\n",
       "      <th>14997</th>\n",
       "      <td>0.11</td>\n",
       "      <td>0.96</td>\n",
       "      <td>6</td>\n",
       "      <td>280</td>\n",
       "      <td>4</td>\n",
       "      <td>0</td>\n",
       "      <td>1</td>\n",
       "      <td>0</td>\n",
       "      <td>low</td>\n",
       "      <td>0</td>\n",
       "      <td>0</td>\n",
       "      <td>0</td>\n",
       "      <td>0</td>\n",
       "      <td>0</td>\n",
       "      <td>0</td>\n",
       "      <td>0</td>\n",
       "      <td>1</td>\n",
       "      <td>0</td>\n",
       "    </tr>\n",
       "    <tr>\n",
       "      <th>14998</th>\n",
       "      <td>0.37</td>\n",
       "      <td>0.52</td>\n",
       "      <td>2</td>\n",
       "      <td>158</td>\n",
       "      <td>3</td>\n",
       "      <td>0</td>\n",
       "      <td>1</td>\n",
       "      <td>0</td>\n",
       "      <td>low</td>\n",
       "      <td>0</td>\n",
       "      <td>0</td>\n",
       "      <td>0</td>\n",
       "      <td>0</td>\n",
       "      <td>0</td>\n",
       "      <td>0</td>\n",
       "      <td>0</td>\n",
       "      <td>1</td>\n",
       "      <td>0</td>\n",
       "    </tr>\n",
       "  </tbody>\n",
       "</table>\n",
       "<p>11592 rows × 18 columns</p>\n",
       "</div>"
      ],
      "text/plain": [
       "       satisfaction_level  last_evaluation  number_project  \\\n",
       "0                    0.38             0.53               2   \n",
       "2                    0.11             0.88               7   \n",
       "3                    0.72             0.87               5   \n",
       "4                    0.37             0.52               2   \n",
       "5                    0.41             0.50               2   \n",
       "...                   ...              ...             ...   \n",
       "14994                0.40             0.57               2   \n",
       "14995                0.37             0.48               2   \n",
       "14996                0.37             0.53               2   \n",
       "14997                0.11             0.96               6   \n",
       "14998                0.37             0.52               2   \n",
       "\n",
       "       average_montly_hours  time_spend_company  Work_accident  left  \\\n",
       "0                       157                   3              0     1   \n",
       "2                       272                   4              0     1   \n",
       "3                       223                   5              0     1   \n",
       "4                       159                   3              0     1   \n",
       "5                       153                   3              0     1   \n",
       "...                     ...                 ...            ...   ...   \n",
       "14994                   151                   3              0     1   \n",
       "14995                   160                   3              0     1   \n",
       "14996                   143                   3              0     1   \n",
       "14997                   280                   4              0     1   \n",
       "14998                   158                   3              0     1   \n",
       "\n",
       "       promotion_last_5years  salary  RandD  accounting  hr  management  \\\n",
       "0                          0     low      0           0   0           0   \n",
       "2                          0  medium      0           0   0           0   \n",
       "3                          0     low      0           0   0           0   \n",
       "4                          0     low      0           0   0           0   \n",
       "5                          0     low      0           0   0           0   \n",
       "...                      ...     ...    ...         ...  ..         ...   \n",
       "14994                      0     low      0           0   0           0   \n",
       "14995                      0     low      0           0   0           0   \n",
       "14996                      0     low      0           0   0           0   \n",
       "14997                      0     low      0           0   0           0   \n",
       "14998                      0     low      0           0   0           0   \n",
       "\n",
       "       marketing  product_mng  sales  support  technical  \n",
       "0              0            0      1        0          0  \n",
       "2              0            0      1        0          0  \n",
       "3              0            0      1        0          0  \n",
       "4              0            0      1        0          0  \n",
       "5              0            0      1        0          0  \n",
       "...          ...          ...    ...      ...        ...  \n",
       "14994          0            0      0        1          0  \n",
       "14995          0            0      0        1          0  \n",
       "14996          0            0      0        1          0  \n",
       "14997          0            0      0        1          0  \n",
       "14998          0            0      0        1          0  \n",
       "\n",
       "[11592 rows x 18 columns]"
      ]
     },
     "execution_count": 43,
     "metadata": {},
     "output_type": "execute_result"
    }
   ],
   "source": [
    "dummies=pd.get_dummies(data['sales'],drop_first=True)\n",
    "data=pd.concat([data.drop(['sales'],axis=1),dummies],axis=1)\n",
    "data"
   ]
  },
  {
   "cell_type": "code",
   "execution_count": 44,
   "id": "a7b5df63",
   "metadata": {},
   "outputs": [
    {
     "data": {
      "text/plain": [
       "(11592, 18)"
      ]
     },
     "execution_count": 44,
     "metadata": {},
     "output_type": "execute_result"
    }
   ],
   "source": [
    "data.shape"
   ]
  },
  {
   "cell_type": "code",
   "execution_count": 45,
   "id": "c82420fe",
   "metadata": {},
   "outputs": [
    {
     "data": {
      "text/plain": [
       "Index(['satisfaction_level', 'last_evaluation', 'number_project',\n",
       "       'average_montly_hours', 'time_spend_company', 'Work_accident', 'left',\n",
       "       'promotion_last_5years', 'salary', 'RandD', 'accounting', 'hr',\n",
       "       'management', 'marketing', 'product_mng', 'sales', 'support',\n",
       "       'technical'],\n",
       "      dtype='object')"
      ]
     },
     "execution_count": 45,
     "metadata": {},
     "output_type": "execute_result"
    }
   ],
   "source": [
    "data.columns"
   ]
  },
  {
   "cell_type": "markdown",
   "id": "64b9555f",
   "metadata": {},
   "source": [
    "# Feature Scaling - StandardScaler"
   ]
  },
  {
   "cell_type": "code",
   "execution_count": 46,
   "id": "dfff2115",
   "metadata": {},
   "outputs": [],
   "source": [
    "# Splitting dataset into x and y\n",
    "y = data['salary']\n",
    "X = data.drop('salary', axis = 1)"
   ]
  },
  {
   "cell_type": "code",
   "execution_count": 47,
   "id": "79fd8aea",
   "metadata": {},
   "outputs": [
    {
     "data": {
      "text/html": [
       "<div>\n",
       "<style scoped>\n",
       "    .dataframe tbody tr th:only-of-type {\n",
       "        vertical-align: middle;\n",
       "    }\n",
       "\n",
       "    .dataframe tbody tr th {\n",
       "        vertical-align: top;\n",
       "    }\n",
       "\n",
       "    .dataframe thead th {\n",
       "        text-align: right;\n",
       "    }\n",
       "</style>\n",
       "<table border=\"1\" class=\"dataframe\">\n",
       "  <thead>\n",
       "    <tr style=\"text-align: right;\">\n",
       "      <th></th>\n",
       "      <th>satisfaction_level</th>\n",
       "      <th>last_evaluation</th>\n",
       "      <th>number_project</th>\n",
       "      <th>average_montly_hours</th>\n",
       "      <th>time_spend_company</th>\n",
       "      <th>Work_accident</th>\n",
       "      <th>left</th>\n",
       "      <th>promotion_last_5years</th>\n",
       "      <th>RandD</th>\n",
       "      <th>accounting</th>\n",
       "      <th>hr</th>\n",
       "      <th>management</th>\n",
       "      <th>marketing</th>\n",
       "      <th>product_mng</th>\n",
       "      <th>sales</th>\n",
       "      <th>support</th>\n",
       "      <th>technical</th>\n",
       "    </tr>\n",
       "  </thead>\n",
       "  <tbody>\n",
       "    <tr>\n",
       "      <th>count</th>\n",
       "      <td>11592.000000</td>\n",
       "      <td>11592.000000</td>\n",
       "      <td>11592.000000</td>\n",
       "      <td>11592.000000</td>\n",
       "      <td>11592.000000</td>\n",
       "      <td>11592.0</td>\n",
       "      <td>11592.000000</td>\n",
       "      <td>11592.0</td>\n",
       "      <td>11592.000000</td>\n",
       "      <td>11592.000000</td>\n",
       "      <td>11592.000000</td>\n",
       "      <td>11592.000000</td>\n",
       "      <td>11592.000000</td>\n",
       "      <td>11592.000000</td>\n",
       "      <td>11592.000000</td>\n",
       "      <td>11592.000000</td>\n",
       "      <td>11592.000000</td>\n",
       "    </tr>\n",
       "    <tr>\n",
       "      <th>mean</th>\n",
       "      <td>0.604187</td>\n",
       "      <td>0.714372</td>\n",
       "      <td>3.785283</td>\n",
       "      <td>200.776743</td>\n",
       "      <td>3.185732</td>\n",
       "      <td>0.0</td>\n",
       "      <td>0.275017</td>\n",
       "      <td>0.0</td>\n",
       "      <td>0.050983</td>\n",
       "      <td>0.052795</td>\n",
       "      <td>0.052105</td>\n",
       "      <td>0.034334</td>\n",
       "      <td>0.053485</td>\n",
       "      <td>0.060990</td>\n",
       "      <td>0.272170</td>\n",
       "      <td>0.151656</td>\n",
       "      <td>0.186335</td>\n",
       "    </tr>\n",
       "    <tr>\n",
       "      <th>std</th>\n",
       "      <td>0.251503</td>\n",
       "      <td>0.171659</td>\n",
       "      <td>1.275607</td>\n",
       "      <td>50.452480</td>\n",
       "      <td>0.910977</td>\n",
       "      <td>0.0</td>\n",
       "      <td>0.446542</td>\n",
       "      <td>0.0</td>\n",
       "      <td>0.219973</td>\n",
       "      <td>0.223634</td>\n",
       "      <td>0.222248</td>\n",
       "      <td>0.182094</td>\n",
       "      <td>0.225009</td>\n",
       "      <td>0.239323</td>\n",
       "      <td>0.445096</td>\n",
       "      <td>0.358703</td>\n",
       "      <td>0.389394</td>\n",
       "    </tr>\n",
       "    <tr>\n",
       "      <th>min</th>\n",
       "      <td>0.090000</td>\n",
       "      <td>0.360000</td>\n",
       "      <td>2.000000</td>\n",
       "      <td>96.000000</td>\n",
       "      <td>2.000000</td>\n",
       "      <td>0.0</td>\n",
       "      <td>0.000000</td>\n",
       "      <td>0.0</td>\n",
       "      <td>0.000000</td>\n",
       "      <td>0.000000</td>\n",
       "      <td>0.000000</td>\n",
       "      <td>0.000000</td>\n",
       "      <td>0.000000</td>\n",
       "      <td>0.000000</td>\n",
       "      <td>0.000000</td>\n",
       "      <td>0.000000</td>\n",
       "      <td>0.000000</td>\n",
       "    </tr>\n",
       "    <tr>\n",
       "      <th>25%</th>\n",
       "      <td>0.430000</td>\n",
       "      <td>0.560000</td>\n",
       "      <td>3.000000</td>\n",
       "      <td>155.000000</td>\n",
       "      <td>3.000000</td>\n",
       "      <td>0.0</td>\n",
       "      <td>0.000000</td>\n",
       "      <td>0.0</td>\n",
       "      <td>0.000000</td>\n",
       "      <td>0.000000</td>\n",
       "      <td>0.000000</td>\n",
       "      <td>0.000000</td>\n",
       "      <td>0.000000</td>\n",
       "      <td>0.000000</td>\n",
       "      <td>0.000000</td>\n",
       "      <td>0.000000</td>\n",
       "      <td>0.000000</td>\n",
       "    </tr>\n",
       "    <tr>\n",
       "      <th>50%</th>\n",
       "      <td>0.630000</td>\n",
       "      <td>0.720000</td>\n",
       "      <td>4.000000</td>\n",
       "      <td>199.000000</td>\n",
       "      <td>3.000000</td>\n",
       "      <td>0.0</td>\n",
       "      <td>0.000000</td>\n",
       "      <td>0.0</td>\n",
       "      <td>0.000000</td>\n",
       "      <td>0.000000</td>\n",
       "      <td>0.000000</td>\n",
       "      <td>0.000000</td>\n",
       "      <td>0.000000</td>\n",
       "      <td>0.000000</td>\n",
       "      <td>0.000000</td>\n",
       "      <td>0.000000</td>\n",
       "      <td>0.000000</td>\n",
       "    </tr>\n",
       "    <tr>\n",
       "      <th>75%</th>\n",
       "      <td>0.810000</td>\n",
       "      <td>0.870000</td>\n",
       "      <td>5.000000</td>\n",
       "      <td>245.000000</td>\n",
       "      <td>4.000000</td>\n",
       "      <td>0.0</td>\n",
       "      <td>1.000000</td>\n",
       "      <td>0.0</td>\n",
       "      <td>0.000000</td>\n",
       "      <td>0.000000</td>\n",
       "      <td>0.000000</td>\n",
       "      <td>0.000000</td>\n",
       "      <td>0.000000</td>\n",
       "      <td>0.000000</td>\n",
       "      <td>1.000000</td>\n",
       "      <td>0.000000</td>\n",
       "      <td>0.000000</td>\n",
       "    </tr>\n",
       "    <tr>\n",
       "      <th>max</th>\n",
       "      <td>1.000000</td>\n",
       "      <td>1.000000</td>\n",
       "      <td>7.000000</td>\n",
       "      <td>310.000000</td>\n",
       "      <td>5.000000</td>\n",
       "      <td>0.0</td>\n",
       "      <td>1.000000</td>\n",
       "      <td>0.0</td>\n",
       "      <td>1.000000</td>\n",
       "      <td>1.000000</td>\n",
       "      <td>1.000000</td>\n",
       "      <td>1.000000</td>\n",
       "      <td>1.000000</td>\n",
       "      <td>1.000000</td>\n",
       "      <td>1.000000</td>\n",
       "      <td>1.000000</td>\n",
       "      <td>1.000000</td>\n",
       "    </tr>\n",
       "  </tbody>\n",
       "</table>\n",
       "</div>"
      ],
      "text/plain": [
       "       satisfaction_level  last_evaluation  number_project  \\\n",
       "count        11592.000000     11592.000000    11592.000000   \n",
       "mean             0.604187         0.714372        3.785283   \n",
       "std              0.251503         0.171659        1.275607   \n",
       "min              0.090000         0.360000        2.000000   \n",
       "25%              0.430000         0.560000        3.000000   \n",
       "50%              0.630000         0.720000        4.000000   \n",
       "75%              0.810000         0.870000        5.000000   \n",
       "max              1.000000         1.000000        7.000000   \n",
       "\n",
       "       average_montly_hours  time_spend_company  Work_accident          left  \\\n",
       "count          11592.000000        11592.000000        11592.0  11592.000000   \n",
       "mean             200.776743            3.185732            0.0      0.275017   \n",
       "std               50.452480            0.910977            0.0      0.446542   \n",
       "min               96.000000            2.000000            0.0      0.000000   \n",
       "25%              155.000000            3.000000            0.0      0.000000   \n",
       "50%              199.000000            3.000000            0.0      0.000000   \n",
       "75%              245.000000            4.000000            0.0      1.000000   \n",
       "max              310.000000            5.000000            0.0      1.000000   \n",
       "\n",
       "       promotion_last_5years         RandD    accounting            hr  \\\n",
       "count                11592.0  11592.000000  11592.000000  11592.000000   \n",
       "mean                     0.0      0.050983      0.052795      0.052105   \n",
       "std                      0.0      0.219973      0.223634      0.222248   \n",
       "min                      0.0      0.000000      0.000000      0.000000   \n",
       "25%                      0.0      0.000000      0.000000      0.000000   \n",
       "50%                      0.0      0.000000      0.000000      0.000000   \n",
       "75%                      0.0      0.000000      0.000000      0.000000   \n",
       "max                      0.0      1.000000      1.000000      1.000000   \n",
       "\n",
       "         management     marketing   product_mng         sales       support  \\\n",
       "count  11592.000000  11592.000000  11592.000000  11592.000000  11592.000000   \n",
       "mean       0.034334      0.053485      0.060990      0.272170      0.151656   \n",
       "std        0.182094      0.225009      0.239323      0.445096      0.358703   \n",
       "min        0.000000      0.000000      0.000000      0.000000      0.000000   \n",
       "25%        0.000000      0.000000      0.000000      0.000000      0.000000   \n",
       "50%        0.000000      0.000000      0.000000      0.000000      0.000000   \n",
       "75%        0.000000      0.000000      0.000000      1.000000      0.000000   \n",
       "max        1.000000      1.000000      1.000000      1.000000      1.000000   \n",
       "\n",
       "          technical  \n",
       "count  11592.000000  \n",
       "mean       0.186335  \n",
       "std        0.389394  \n",
       "min        0.000000  \n",
       "25%        0.000000  \n",
       "50%        0.000000  \n",
       "75%        0.000000  \n",
       "max        1.000000  "
      ]
     },
     "execution_count": 47,
     "metadata": {},
     "output_type": "execute_result"
    }
   ],
   "source": [
    "X.describe()"
   ]
  },
  {
   "cell_type": "code",
   "execution_count": 48,
   "id": "26117011",
   "metadata": {},
   "outputs": [],
   "source": [
    "from sklearn import preprocessing\n",
    "standardisation = preprocessing.StandardScaler()\n",
    "X = standardisation.fit_transform(X)"
   ]
  },
  {
   "cell_type": "code",
   "execution_count": 49,
   "id": "ce216c93",
   "metadata": {
    "scrolled": true
   },
   "outputs": [
    {
     "data": {
      "text/html": [
       "<div>\n",
       "<style scoped>\n",
       "    .dataframe tbody tr th:only-of-type {\n",
       "        vertical-align: middle;\n",
       "    }\n",
       "\n",
       "    .dataframe tbody tr th {\n",
       "        vertical-align: top;\n",
       "    }\n",
       "\n",
       "    .dataframe thead th {\n",
       "        text-align: right;\n",
       "    }\n",
       "</style>\n",
       "<table border=\"1\" class=\"dataframe\">\n",
       "  <thead>\n",
       "    <tr style=\"text-align: right;\">\n",
       "      <th></th>\n",
       "      <th>0</th>\n",
       "      <th>1</th>\n",
       "      <th>2</th>\n",
       "      <th>3</th>\n",
       "      <th>4</th>\n",
       "      <th>5</th>\n",
       "      <th>6</th>\n",
       "      <th>7</th>\n",
       "      <th>8</th>\n",
       "      <th>9</th>\n",
       "      <th>10</th>\n",
       "      <th>11</th>\n",
       "      <th>12</th>\n",
       "      <th>13</th>\n",
       "      <th>14</th>\n",
       "      <th>15</th>\n",
       "      <th>16</th>\n",
       "    </tr>\n",
       "  </thead>\n",
       "  <tbody>\n",
       "    <tr>\n",
       "      <th>count</th>\n",
       "      <td>1.159200e+04</td>\n",
       "      <td>1.159200e+04</td>\n",
       "      <td>1.159200e+04</td>\n",
       "      <td>1.159200e+04</td>\n",
       "      <td>1.159200e+04</td>\n",
       "      <td>11592.0</td>\n",
       "      <td>1.159200e+04</td>\n",
       "      <td>11592.0</td>\n",
       "      <td>1.159200e+04</td>\n",
       "      <td>1.159200e+04</td>\n",
       "      <td>1.159200e+04</td>\n",
       "      <td>1.159200e+04</td>\n",
       "      <td>1.159200e+04</td>\n",
       "      <td>1.159200e+04</td>\n",
       "      <td>1.159200e+04</td>\n",
       "      <td>1.159200e+04</td>\n",
       "      <td>1.159200e+04</td>\n",
       "    </tr>\n",
       "    <tr>\n",
       "      <th>mean</th>\n",
       "      <td>5.296737e-16</td>\n",
       "      <td>2.834746e-16</td>\n",
       "      <td>-4.055111e-17</td>\n",
       "      <td>-2.212018e-16</td>\n",
       "      <td>4.429076e-15</td>\n",
       "      <td>0.0</td>\n",
       "      <td>-5.137559e-15</td>\n",
       "      <td>0.0</td>\n",
       "      <td>1.419610e-15</td>\n",
       "      <td>1.192920e-15</td>\n",
       "      <td>2.662083e-15</td>\n",
       "      <td>-4.576562e-15</td>\n",
       "      <td>-3.836073e-16</td>\n",
       "      <td>3.400278e-15</td>\n",
       "      <td>2.183668e-16</td>\n",
       "      <td>-1.395096e-15</td>\n",
       "      <td>2.816061e-15</td>\n",
       "    </tr>\n",
       "    <tr>\n",
       "      <th>std</th>\n",
       "      <td>1.000043e+00</td>\n",
       "      <td>1.000043e+00</td>\n",
       "      <td>1.000043e+00</td>\n",
       "      <td>1.000043e+00</td>\n",
       "      <td>1.000043e+00</td>\n",
       "      <td>0.0</td>\n",
       "      <td>1.000043e+00</td>\n",
       "      <td>0.0</td>\n",
       "      <td>1.000043e+00</td>\n",
       "      <td>1.000043e+00</td>\n",
       "      <td>1.000043e+00</td>\n",
       "      <td>1.000043e+00</td>\n",
       "      <td>1.000043e+00</td>\n",
       "      <td>1.000043e+00</td>\n",
       "      <td>1.000043e+00</td>\n",
       "      <td>1.000043e+00</td>\n",
       "      <td>1.000043e+00</td>\n",
       "    </tr>\n",
       "    <tr>\n",
       "      <th>min</th>\n",
       "      <td>-2.044542e+00</td>\n",
       "      <td>-2.064487e+00</td>\n",
       "      <td>-1.399616e+00</td>\n",
       "      <td>-2.076831e+00</td>\n",
       "      <td>-1.301661e+00</td>\n",
       "      <td>0.0</td>\n",
       "      <td>-6.159084e-01</td>\n",
       "      <td>0.0</td>\n",
       "      <td>-2.317809e-01</td>\n",
       "      <td>-2.360883e-01</td>\n",
       "      <td>-2.344548e-01</td>\n",
       "      <td>-1.885597e-01</td>\n",
       "      <td>-2.377130e-01</td>\n",
       "      <td>-2.548564e-01</td>\n",
       "      <td>-6.115129e-01</td>\n",
       "      <td>-4.228091e-01</td>\n",
       "      <td>-4.785474e-01</td>\n",
       "    </tr>\n",
       "    <tr>\n",
       "      <th>25%</th>\n",
       "      <td>-6.926118e-01</td>\n",
       "      <td>-8.993345e-01</td>\n",
       "      <td>-6.156416e-01</td>\n",
       "      <td>-9.073631e-01</td>\n",
       "      <td>-2.038906e-01</td>\n",
       "      <td>0.0</td>\n",
       "      <td>-6.159084e-01</td>\n",
       "      <td>0.0</td>\n",
       "      <td>-2.317809e-01</td>\n",
       "      <td>-2.360883e-01</td>\n",
       "      <td>-2.344548e-01</td>\n",
       "      <td>-1.885597e-01</td>\n",
       "      <td>-2.377130e-01</td>\n",
       "      <td>-2.548564e-01</td>\n",
       "      <td>-6.115129e-01</td>\n",
       "      <td>-4.228091e-01</td>\n",
       "      <td>-4.785474e-01</td>\n",
       "    </tr>\n",
       "    <tr>\n",
       "      <th>50%</th>\n",
       "      <td>1.026413e-01</td>\n",
       "      <td>3.278750e-02</td>\n",
       "      <td>1.683326e-01</td>\n",
       "      <td>-3.521768e-02</td>\n",
       "      <td>-2.038906e-01</td>\n",
       "      <td>0.0</td>\n",
       "      <td>-6.159084e-01</td>\n",
       "      <td>0.0</td>\n",
       "      <td>-2.317809e-01</td>\n",
       "      <td>-2.360883e-01</td>\n",
       "      <td>-2.344548e-01</td>\n",
       "      <td>-1.885597e-01</td>\n",
       "      <td>-2.377130e-01</td>\n",
       "      <td>-2.548564e-01</td>\n",
       "      <td>-6.115129e-01</td>\n",
       "      <td>-4.228091e-01</td>\n",
       "      <td>-4.785474e-01</td>\n",
       "    </tr>\n",
       "    <tr>\n",
       "      <th>75%</th>\n",
       "      <td>8.183691e-01</td>\n",
       "      <td>9.066519e-01</td>\n",
       "      <td>9.523069e-01</td>\n",
       "      <td>8.765707e-01</td>\n",
       "      <td>8.938798e-01</td>\n",
       "      <td>0.0</td>\n",
       "      <td>1.623618e+00</td>\n",
       "      <td>0.0</td>\n",
       "      <td>-2.317809e-01</td>\n",
       "      <td>-2.360883e-01</td>\n",
       "      <td>-2.344548e-01</td>\n",
       "      <td>-1.885597e-01</td>\n",
       "      <td>-2.377130e-01</td>\n",
       "      <td>-2.548564e-01</td>\n",
       "      <td>1.635288e+00</td>\n",
       "      <td>-4.228091e-01</td>\n",
       "      <td>-4.785474e-01</td>\n",
       "    </tr>\n",
       "    <tr>\n",
       "      <th>max</th>\n",
       "      <td>1.573860e+00</td>\n",
       "      <td>1.664001e+00</td>\n",
       "      <td>2.520255e+00</td>\n",
       "      <td>2.164967e+00</td>\n",
       "      <td>1.991650e+00</td>\n",
       "      <td>0.0</td>\n",
       "      <td>1.623618e+00</td>\n",
       "      <td>0.0</td>\n",
       "      <td>4.314419e+00</td>\n",
       "      <td>4.235703e+00</td>\n",
       "      <td>4.265214e+00</td>\n",
       "      <td>5.303360e+00</td>\n",
       "      <td>4.206753e+00</td>\n",
       "      <td>3.923779e+00</td>\n",
       "      <td>1.635288e+00</td>\n",
       "      <td>2.365134e+00</td>\n",
       "      <td>2.089657e+00</td>\n",
       "    </tr>\n",
       "  </tbody>\n",
       "</table>\n",
       "</div>"
      ],
      "text/plain": [
       "                 0             1             2             3             4   \\\n",
       "count  1.159200e+04  1.159200e+04  1.159200e+04  1.159200e+04  1.159200e+04   \n",
       "mean   5.296737e-16  2.834746e-16 -4.055111e-17 -2.212018e-16  4.429076e-15   \n",
       "std    1.000043e+00  1.000043e+00  1.000043e+00  1.000043e+00  1.000043e+00   \n",
       "min   -2.044542e+00 -2.064487e+00 -1.399616e+00 -2.076831e+00 -1.301661e+00   \n",
       "25%   -6.926118e-01 -8.993345e-01 -6.156416e-01 -9.073631e-01 -2.038906e-01   \n",
       "50%    1.026413e-01  3.278750e-02  1.683326e-01 -3.521768e-02 -2.038906e-01   \n",
       "75%    8.183691e-01  9.066519e-01  9.523069e-01  8.765707e-01  8.938798e-01   \n",
       "max    1.573860e+00  1.664001e+00  2.520255e+00  2.164967e+00  1.991650e+00   \n",
       "\n",
       "            5             6        7             8             9   \\\n",
       "count  11592.0  1.159200e+04  11592.0  1.159200e+04  1.159200e+04   \n",
       "mean       0.0 -5.137559e-15      0.0  1.419610e-15  1.192920e-15   \n",
       "std        0.0  1.000043e+00      0.0  1.000043e+00  1.000043e+00   \n",
       "min        0.0 -6.159084e-01      0.0 -2.317809e-01 -2.360883e-01   \n",
       "25%        0.0 -6.159084e-01      0.0 -2.317809e-01 -2.360883e-01   \n",
       "50%        0.0 -6.159084e-01      0.0 -2.317809e-01 -2.360883e-01   \n",
       "75%        0.0  1.623618e+00      0.0 -2.317809e-01 -2.360883e-01   \n",
       "max        0.0  1.623618e+00      0.0  4.314419e+00  4.235703e+00   \n",
       "\n",
       "                 10            11            12            13            14  \\\n",
       "count  1.159200e+04  1.159200e+04  1.159200e+04  1.159200e+04  1.159200e+04   \n",
       "mean   2.662083e-15 -4.576562e-15 -3.836073e-16  3.400278e-15  2.183668e-16   \n",
       "std    1.000043e+00  1.000043e+00  1.000043e+00  1.000043e+00  1.000043e+00   \n",
       "min   -2.344548e-01 -1.885597e-01 -2.377130e-01 -2.548564e-01 -6.115129e-01   \n",
       "25%   -2.344548e-01 -1.885597e-01 -2.377130e-01 -2.548564e-01 -6.115129e-01   \n",
       "50%   -2.344548e-01 -1.885597e-01 -2.377130e-01 -2.548564e-01 -6.115129e-01   \n",
       "75%   -2.344548e-01 -1.885597e-01 -2.377130e-01 -2.548564e-01  1.635288e+00   \n",
       "max    4.265214e+00  5.303360e+00  4.206753e+00  3.923779e+00  1.635288e+00   \n",
       "\n",
       "                 15            16  \n",
       "count  1.159200e+04  1.159200e+04  \n",
       "mean  -1.395096e-15  2.816061e-15  \n",
       "std    1.000043e+00  1.000043e+00  \n",
       "min   -4.228091e-01 -4.785474e-01  \n",
       "25%   -4.228091e-01 -4.785474e-01  \n",
       "50%   -4.228091e-01 -4.785474e-01  \n",
       "75%   -4.228091e-01 -4.785474e-01  \n",
       "max    2.365134e+00  2.089657e+00  "
      ]
     },
     "execution_count": 49,
     "metadata": {},
     "output_type": "execute_result"
    }
   ],
   "source": [
    "X=pd.DataFrame(X)\n",
    "X.describe()"
   ]
  },
  {
   "cell_type": "markdown",
   "id": "ec85b0de",
   "metadata": {},
   "source": [
    "Insights :\n",
    "    \n",
    "    1.We have performed the encoding of the feature 'sales' using the one hot encoding.\n",
    "      This resulted in the formation of 10 more columns.We also dropped the column sales from the data set after encoding.\n",
    "        \n",
    "    2.We performed the scaling on the data set using standard scaling.    "
   ]
  },
  {
   "cell_type": "markdown",
   "id": "aa81daa0",
   "metadata": {},
   "source": [
    "# Splitting data into  train set and test set"
   ]
  },
  {
   "cell_type": "code",
   "execution_count": 50,
   "id": "74161efa",
   "metadata": {},
   "outputs": [],
   "source": [
    "from sklearn.model_selection import train_test_split\n",
    "X_train,X_test,y_train,y_test = train_test_split(X,y,random_state=42,test_size=0.2)"
   ]
  },
  {
   "cell_type": "code",
   "execution_count": 51,
   "id": "4a92f4f7",
   "metadata": {},
   "outputs": [
    {
     "data": {
      "text/plain": [
       "(9273, 17)"
      ]
     },
     "execution_count": 51,
     "metadata": {},
     "output_type": "execute_result"
    }
   ],
   "source": [
    "X_train.shape"
   ]
  },
  {
   "cell_type": "code",
   "execution_count": 52,
   "id": "e1c8d50d",
   "metadata": {},
   "outputs": [
    {
     "data": {
      "text/plain": [
       "(2319, 17)"
      ]
     },
     "execution_count": 52,
     "metadata": {},
     "output_type": "execute_result"
    }
   ],
   "source": [
    "X_test.shape"
   ]
  },
  {
   "cell_type": "code",
   "execution_count": 53,
   "id": "a0bbb714",
   "metadata": {},
   "outputs": [
    {
     "data": {
      "text/plain": [
       "(9273,)"
      ]
     },
     "execution_count": 53,
     "metadata": {},
     "output_type": "execute_result"
    }
   ],
   "source": [
    "y_train.shape"
   ]
  },
  {
   "cell_type": "code",
   "execution_count": 54,
   "id": "f6e946b0",
   "metadata": {},
   "outputs": [
    {
     "data": {
      "text/plain": [
       "(2319,)"
      ]
     },
     "execution_count": 54,
     "metadata": {},
     "output_type": "execute_result"
    }
   ],
   "source": [
    "y_test.shape"
   ]
  },
  {
   "cell_type": "markdown",
   "id": "506d1d6d",
   "metadata": {},
   "source": [
    "# 3.MODELLING"
   ]
  },
  {
   "cell_type": "markdown",
   "id": "906af4ab",
   "metadata": {},
   "source": [
    "Logistic Regression"
   ]
  },
  {
   "cell_type": "code",
   "execution_count": 55,
   "id": "1a146ee8",
   "metadata": {},
   "outputs": [],
   "source": [
    "from sklearn.linear_model import LogisticRegression\n",
    "from sklearn.model_selection import train_test_split\n",
    "from sklearn import linear_model\n",
    "from sklearn.metrics import confusion_matrix,classification_report,accuracy_score, precision_score\n",
    "from sklearn.metrics import plot_confusion_matrix"
   ]
  },
  {
   "cell_type": "code",
   "execution_count": 56,
   "id": "832ea207",
   "metadata": {},
   "outputs": [
    {
     "name": "stdout",
     "output_type": "stream",
     "text": [
      "              precision    recall  f1-score   support\n",
      "\n",
      "        high       0.00      0.00      0.00       220\n",
      "         low       0.52      0.81      0.63      1475\n",
      "      medium       0.41      0.21      0.28      1203\n",
      "\n",
      "    accuracy                           0.50      2898\n",
      "   macro avg       0.31      0.34      0.30      2898\n",
      "weighted avg       0.44      0.50      0.44      2898\n",
      "\n"
     ]
    },
    {
     "data": {
      "image/png": "[encoded data removed]",
      "text/plain": [
       "<Figure size 576x396 with 2 Axes>"
      ]
     },
     "metadata": {},
     "output_type": "display_data"
    }
   ],
   "source": [
    "#y = data[\"salary\"]\n",
    "X = data.drop(['salary'], axis=1)\n",
    "\n",
    "minMaxScaler = preprocessing.MinMaxScaler(feature_range=(0,1))\n",
    "X = minMaxScaler.fit_transform(X)\n",
    "X = pd.DataFrame(X)\n",
    "X.describe()\n",
    "X_train,X_test,y_train,y_test = train_test_split(X,y,random_state=42,test_size=0.25)\n",
    "lr = linear_model.LogisticRegression()\n",
    "model = lr.fit(X_train,y_train)\n",
    "predictions = model.predict(X_test)\n",
    "plot_confusion_matrix(lr, X_test, y_test)\n",
    "print(classification_report(y_test, predictions))"
   ]
  },
  {
   "cell_type": "code",
   "execution_count": 57,
   "id": "50a47d00",
   "metadata": {},
   "outputs": [
    {
     "name": "stdout",
     "output_type": "stream",
     "text": [
      "              precision    recall  f1-score   support\n",
      "\n",
      "        high       0.00      0.00      0.00       220\n",
      "         low       0.52      0.81      0.63      1475\n",
      "      medium       0.41      0.21      0.28      1203\n",
      "\n",
      "    accuracy                           0.50      2898\n",
      "   macro avg       0.31      0.34      0.30      2898\n",
      "weighted avg       0.43      0.50      0.44      2898\n",
      "\n"
     ]
    },
    {
     "data": {
      "image/png": "[encoded data removed]",
      "text/plain": [
       "<Figure size 576x396 with 2 Axes>"
      ]
     },
     "metadata": {},
     "output_type": "display_data"
    }
   ],
   "source": [
    "X = data.drop(['salary'], axis=1)\n",
    "\n",
    "X =standardisation.fit_transform(X)\n",
    "X = pd.DataFrame(X)\n",
    "X_train,X_test,y_train,y_test = train_test_split(X,y,random_state=42,test_size=0.25)\n",
    "lr = linear_model.LogisticRegression()\n",
    "model = lr.fit(X_train,y_train)\n",
    "predictions = model.predict(X_test)\n",
    "plot_confusion_matrix(lr, X_test, y_test)\n",
    "print(classification_report(y_test, predictions))"
   ]
  },
  {
   "cell_type": "markdown",
   "id": "edd29a50",
   "metadata": {},
   "source": [
    "The Logistic Regression Model gives an accuracy of 50% with and without minmax scaling"
   ]
  },
  {
   "cell_type": "markdown",
   "id": "b2c946b5",
   "metadata": {},
   "source": [
    "KNN"
   ]
  },
  {
   "cell_type": "code",
   "execution_count": 58,
   "id": "464c3d7d",
   "metadata": {},
   "outputs": [],
   "source": [
    "from sklearn.neighbors import KNeighborsClassifier"
   ]
  },
  {
   "cell_type": "code",
   "execution_count": 59,
   "id": "07876705",
   "metadata": {},
   "outputs": [],
   "source": [
    "#model fine tuning\n",
    "# Identifty the best values for n_neighbors\n",
    "acc_values = []\n",
    "neighbors = np.arange(3,15)\n",
    "for k in neighbors:\n",
    "    kncdf = KNeighborsClassifier(n_neighbors=k,metric=\"minkowski\")\n",
    "    model = kncdf.fit(X_train,y_train)\n",
    "    predictions = model.predict(X_test)\n",
    "    acc_values.append(accuracy_score(y_test, predictions))"
   ]
  },
  {
   "cell_type": "code",
   "execution_count": 60,
   "id": "4d53d974",
   "metadata": {},
   "outputs": [
    {
     "data": {
      "text/plain": [
       "[0.5251897860593513,\n",
       " 0.5193236714975845,\n",
       " 0.5072463768115942,\n",
       " 0.5120772946859904,\n",
       " 0.5117322291235334,\n",
       " 0.5100069013112492,\n",
       " 0.510351966873706,\n",
       " 0.5182884748102139,\n",
       " 0.5134575569358178,\n",
       " 0.5069013112491373,\n",
       " 0.5162180814354728,\n",
       " 0.5065562456866805]"
      ]
     },
     "execution_count": 60,
     "metadata": {},
     "output_type": "execute_result"
    }
   ],
   "source": [
    "acc_values"
   ]
  },
  {
   "cell_type": "code",
   "execution_count": 61,
   "id": "05037b9a",
   "metadata": {},
   "outputs": [
    {
     "data": {
      "text/plain": [
       "Text(0, 0.5, 'Accuracy')"
      ]
     },
     "execution_count": 61,
     "metadata": {},
     "output_type": "execute_result"
    },
    {
     "data": {
      "image/png": "[encoded data removed]",
      "text/plain": [
       "<Figure size 576x396 with 1 Axes>"
      ]
     },
     "metadata": {},
     "output_type": "display_data"
    }
   ],
   "source": [
    "plt.plot(neighbors,acc_values,'o-')\n",
    "plt.xlabel(\"K-value\")\n",
    "plt.ylabel(\"Accuracy\")"
   ]
  },
  {
   "cell_type": "code",
   "execution_count": 62,
   "id": "dd9a29aa",
   "metadata": {},
   "outputs": [
    {
     "name": "stdout",
     "output_type": "stream",
     "text": [
      "              precision    recall  f1-score   support\n",
      "\n",
      "        high       0.29      0.29      0.29       220\n",
      "         low       0.64      0.65      0.65      1475\n",
      "      medium       0.57      0.57      0.57      1203\n",
      "\n",
      "    accuracy                           0.59      2898\n",
      "   macro avg       0.50      0.50      0.50      2898\n",
      "weighted avg       0.59      0.59      0.59      2898\n",
      "\n"
     ]
    },
    {
     "data": {
      "image/png": "[encoded data removed]",
      "text/plain": [
       "<Figure size 576x396 with 2 Axes>"
      ]
     },
     "metadata": {},
     "output_type": "display_data"
    }
   ],
   "source": [
    "kncdf = KNeighborsClassifier(leaf_size=1,n_neighbors=1,metric=\"minkowski\",p=1)\n",
    "model = kncdf.fit(X_train,y_train)\n",
    "predictions = model.predict(X_test)\n",
    "plot_confusion_matrix(kncdf, X_test, y_test)\n",
    "print(classification_report(y_test, predictions))"
   ]
  },
  {
   "cell_type": "markdown",
   "id": "1e864114",
   "metadata": {},
   "source": [
    "Decision Tree"
   ]
  },
  {
   "cell_type": "code",
   "execution_count": 63,
   "id": "e540ad50",
   "metadata": {},
   "outputs": [],
   "source": [
    "from sklearn.tree import DecisionTreeClassifier"
   ]
  },
  {
   "cell_type": "code",
   "execution_count": 64,
   "id": "2c4882dc",
   "metadata": {},
   "outputs": [
    {
     "name": "stdout",
     "output_type": "stream",
     "text": [
      "[[ 71  82  67]\n",
      " [ 89 954 432]\n",
      " [ 79 425 699]]\n",
      "              precision    recall  f1-score   support\n",
      "\n",
      "        high       0.30      0.32      0.31       220\n",
      "         low       0.65      0.65      0.65      1475\n",
      "      medium       0.58      0.58      0.58      1203\n",
      "\n",
      "    accuracy                           0.59      2898\n",
      "   macro avg       0.51      0.52      0.51      2898\n",
      "weighted avg       0.60      0.59      0.60      2898\n",
      "\n"
     ]
    }
   ],
   "source": [
    "dclf = DecisionTreeClassifier()\n",
    "model = dclf.fit(X_train,y_train)\n",
    "predictions = model.predict(X_test)\n",
    "print(confusion_matrix(y_test, predictions))\n",
    "print(classification_report(y_test, predictions))"
   ]
  },
  {
   "cell_type": "code",
   "execution_count": 65,
   "id": "dedd376f",
   "metadata": {},
   "outputs": [
    {
     "data": {
      "text/plain": [
       "<sklearn.metrics._plot.confusion_matrix.ConfusionMatrixDisplay at 0x1864dda8f10>"
      ]
     },
     "execution_count": 65,
     "metadata": {},
     "output_type": "execute_result"
    },
    {
     "data": {
      "image/png": "[encoded data removed]",
      "text/plain": [
       "<Figure size 576x396 with 2 Axes>"
      ]
     },
     "metadata": {},
     "output_type": "display_data"
    }
   ],
   "source": [
    "from sklearn.metrics import plot_confusion_matrix\n",
    "plot_confusion_matrix(dclf, X_test, y_test)"
   ]
  },
  {
   "cell_type": "code",
   "execution_count": null,
   "id": "cc415290",
   "metadata": {},
   "outputs": [],
   "source": []
  },
  {
   "cell_type": "markdown",
   "id": "dcd34478",
   "metadata": {},
   "source": [
    "SVM"
   ]
  },
  {
   "cell_type": "code",
   "execution_count": 66,
   "id": "8d4303e0",
   "metadata": {},
   "outputs": [],
   "source": [
    "from sklearn.svm import SVC"
   ]
  },
  {
   "cell_type": "code",
   "execution_count": 67,
   "id": "a5ed9727",
   "metadata": {},
   "outputs": [
    {
     "name": "stdout",
     "output_type": "stream",
     "text": [
      "              precision    recall  f1-score   support\n",
      "\n",
      "        high       0.00      0.00      0.00       220\n",
      "         low       0.52      0.87      0.65      1475\n",
      "      medium       0.42      0.14      0.21      1203\n",
      "\n",
      "    accuracy                           0.50      2898\n",
      "   macro avg       0.31      0.34      0.29      2898\n",
      "weighted avg       0.44      0.50      0.42      2898\n",
      "\n"
     ]
    },
    {
     "data": {
      "image/png": "[encoded data removed]",
      "text/plain": [
       "<Figure size 576x396 with 2 Axes>"
      ]
     },
     "metadata": {},
     "output_type": "display_data"
    }
   ],
   "source": [
    "clf = SVC(kernel='linear') \n",
    "model = clf.fit(X_train,y_train)\n",
    "predictions = model.predict(X_test)\n",
    "plot_confusion_matrix(clf, X_test, y_test)\n",
    "print(classification_report(y_test, predictions))"
   ]
  },
  {
   "cell_type": "code",
   "execution_count": 68,
   "id": "f33a38bb",
   "metadata": {},
   "outputs": [
    {
     "name": "stdout",
     "output_type": "stream",
     "text": [
      "              precision    recall  f1-score   support\n",
      "\n",
      "        high       0.30      0.01      0.03       220\n",
      "         low       0.53      0.74      0.62      1475\n",
      "      medium       0.43      0.29      0.35      1203\n",
      "\n",
      "    accuracy                           0.50      2898\n",
      "   macro avg       0.42      0.35      0.33      2898\n",
      "weighted avg       0.47      0.50      0.46      2898\n",
      "\n"
     ]
    },
    {
     "data": {
      "image/png": "[encoded data removed]",
      "text/plain": [
       "<Figure size 576x396 with 2 Axes>"
      ]
     },
     "metadata": {},
     "output_type": "display_data"
    }
   ],
   "source": [
    "clf = SVC(kernel='rbf') \n",
    "model = clf.fit(X_train,y_train)\n",
    "predictions = model.predict(X_test)\n",
    "plot_confusion_matrix(clf, X_test, y_test)\n",
    "print(classification_report(y_test, predictions))"
   ]
  },
  {
   "cell_type": "markdown",
   "id": "f078ce97",
   "metadata": {},
   "source": [
    "Random Forest"
   ]
  },
  {
   "cell_type": "code",
   "execution_count": 69,
   "id": "fd015214",
   "metadata": {},
   "outputs": [
    {
     "name": "stdout",
     "output_type": "stream",
     "text": [
      "              precision    recall  f1-score   support\n",
      "\n",
      "        high       0.63      0.27      0.38       220\n",
      "         low       0.63      0.69      0.66      1475\n",
      "      medium       0.57      0.56      0.56      1203\n",
      "\n",
      "    accuracy                           0.60      2898\n",
      "   macro avg       0.61      0.51      0.53      2898\n",
      "weighted avg       0.60      0.60      0.60      2898\n",
      "\n"
     ]
    },
    {
     "data": {
      "image/png": "[encoded data removed]",
      "text/plain": [
       "<Figure size 576x396 with 2 Axes>"
      ]
     },
     "metadata": {},
     "output_type": "display_data"
    }
   ],
   "source": [
    "from sklearn.ensemble import RandomForestClassifier\n",
    "rndmclf=RandomForestClassifier(n_estimators=50)\n",
    "model = rndmclf.fit(X_train,y_train)\n",
    "predictions = model.predict(X_test)\n",
    "plot_confusion_matrix(rndmclf, X_test, y_test)\n",
    "print(classification_report(y_test, predictions))"
   ]
  },
  {
   "cell_type": "code",
   "execution_count": null,
   "id": "f5a6452a",
   "metadata": {},
   "outputs": [],
   "source": []
  },
  {
   "cell_type": "markdown",
   "id": "1734f2a5",
   "metadata": {},
   "source": [
    "Gradient Boosting"
   ]
  },
  {
   "cell_type": "code",
   "execution_count": 70,
   "id": "41cd15ee",
   "metadata": {},
   "outputs": [
    {
     "name": "stdout",
     "output_type": "stream",
     "text": [
      "[[   9  130   81]\n",
      " [   3 1049  423]\n",
      " [   8  786  409]]\n",
      "              precision    recall  f1-score   support\n",
      "\n",
      "        high       0.45      0.04      0.07       220\n",
      "         low       0.53      0.71      0.61      1475\n",
      "      medium       0.45      0.34      0.39      1203\n",
      "\n",
      "    accuracy                           0.51      2898\n",
      "   macro avg       0.48      0.36      0.36      2898\n",
      "weighted avg       0.49      0.51      0.48      2898\n",
      "\n"
     ]
    }
   ],
   "source": [
    "from sklearn.ensemble import GradientBoostingClassifier\n",
    "gb=GradientBoostingClassifier()\n",
    "gb.fit(X_train,y_train)\n",
    "y_pred=gb.predict(X_test)\n",
    "print(confusion_matrix(y_test,y_pred))\n",
    "print(classification_report(y_test,y_pred))"
   ]
  },
  {
   "cell_type": "markdown",
   "id": "f810cd43",
   "metadata": {},
   "source": [
    "Exreme Gradient Boosting"
   ]
  },
  {
   "cell_type": "code",
   "execution_count": 71,
   "id": "1e2bd180",
   "metadata": {},
   "outputs": [
    {
     "name": "stdout",
     "output_type": "stream",
     "text": [
      "[20:12:16] WARNING: ..\\src\\learner.cc:1115: Starting in XGBoost 1.3.0, the default evaluation metric used with the objective 'multi:softprob' was changed from 'merror' to 'mlogloss'. Explicitly set eval_metric if you'd like to restore the old behavior.\n",
      "[[ 35  94  91]\n",
      " [ 14 984 477]\n",
      " [ 19 564 620]]\n",
      "              precision    recall  f1-score   support\n",
      "\n",
      "        high       0.51      0.16      0.24       220\n",
      "         low       0.60      0.67      0.63      1475\n",
      "      medium       0.52      0.52      0.52      1203\n",
      "\n",
      "    accuracy                           0.57      2898\n",
      "   macro avg       0.55      0.45      0.46      2898\n",
      "weighted avg       0.56      0.57      0.56      2898\n",
      "\n"
     ]
    }
   ],
   "source": [
    "from xgboost import XGBClassifier\n",
    "xgb=XGBClassifier()\n",
    "xgb.fit(X_train,y_train)\n",
    "y_pred1=xgb.predict(X_test)\n",
    "print(confusion_matrix(y_test,y_pred1))\n",
    "print(classification_report(y_test,y_pred1))"
   ]
  },
  {
   "cell_type": "code",
   "execution_count": null,
   "id": "b1fb2254",
   "metadata": {},
   "outputs": [],
   "source": []
  },
  {
   "cell_type": "markdown",
   "id": "8a6469e2",
   "metadata": {},
   "source": [
    "# Random forest regressor"
   ]
  },
  {
   "cell_type": "code",
   "execution_count": 72,
   "id": "aadba41a",
   "metadata": {},
   "outputs": [
    {
     "name": "stdout",
     "output_type": "stream",
     "text": [
      "Parameters currently in use:\n",
      "\n",
      "{'bootstrap': True,\n",
      " 'ccp_alpha': 0.0,\n",
      " 'class_weight': None,\n",
      " 'criterion': 'gini',\n",
      " 'max_depth': None,\n",
      " 'max_features': 'auto',\n",
      " 'max_leaf_nodes': None,\n",
      " 'max_samples': None,\n",
      " 'min_impurity_decrease': 0.0,\n",
      " 'min_impurity_split': None,\n",
      " 'min_samples_leaf': 1,\n",
      " 'min_samples_split': 2,\n",
      " 'min_weight_fraction_leaf': 0.0,\n",
      " 'n_estimators': 100,\n",
      " 'n_jobs': None,\n",
      " 'oob_score': False,\n",
      " 'random_state': 42,\n",
      " 'verbose': 0,\n",
      " 'warm_start': False}\n"
     ]
    }
   ],
   "source": [
    "from sklearn.ensemble import RandomForestClassifier\n",
    "rf = RandomForestClassifier(random_state = 42)\n",
    "from pprint import pprint\n",
    "# Look at parameters used by our current forest\n",
    "print('Parameters currently in use:\\n')\n",
    "pprint(rf.get_params())"
   ]
  },
  {
   "cell_type": "code",
   "execution_count": 73,
   "id": "3631caba",
   "metadata": {},
   "outputs": [
    {
     "name": "stdout",
     "output_type": "stream",
     "text": [
      "{'bootstrap': [True],\n",
      " 'max_depth': [None],\n",
      " 'max_features': ['sqrt'],\n",
      " 'min_samples_leaf': [1],\n",
      " 'min_samples_split': [2],\n",
      " 'n_estimators': [500, 750, 1000]}\n"
     ]
    }
   ],
   "source": [
    "from sklearn.model_selection import RandomizedSearchCV\n",
    "# Number of trees in random forest\n",
    "n_estimators = [int(x) for x in np.linspace(start = 500, stop = 1000, num = 3)]\n",
    "# Number of features to consider at every split\n",
    "max_features = ['sqrt']\n",
    "max_depth = []\n",
    "max_depth.append(None)\n",
    "# Minimum number of samples required to split a node\n",
    "min_samples_split = [2]\n",
    "# Minimum number of samples required at each leaf node\n",
    "min_samples_leaf = [1]\n",
    "# Method of selecting samples for training each tree\n",
    "#bootstrap = [True, False]\n",
    "bootstrap = [True]\n",
    "# Create the random grid\n",
    "random_grid = {'n_estimators': n_estimators,\n",
    "               'max_features': max_features,\n",
    "               'max_depth': max_depth,\n",
    "               'min_samples_split': min_samples_split,\n",
    "               'min_samples_leaf': min_samples_leaf,\n",
    "               'bootstrap': bootstrap}\n",
    "pprint(random_grid)"
   ]
  },
  {
   "cell_type": "code",
   "execution_count": 74,
   "id": "cef92752",
   "metadata": {},
   "outputs": [
    {
     "name": "stdout",
     "output_type": "stream",
     "text": [
      "Fitting 3 folds for each of 3 candidates, totalling 9 fits\n"
     ]
    },
    {
     "data": {
      "text/plain": [
       "RandomizedSearchCV(cv=3, estimator=RandomForestClassifier(), n_iter=100,\n",
       "                   n_jobs=-1,\n",
       "                   param_distributions={'bootstrap': [True],\n",
       "                                        'max_depth': [None],\n",
       "                                        'max_features': ['sqrt'],\n",
       "                                        'min_samples_leaf': [1],\n",
       "                                        'min_samples_split': [2],\n",
       "                                        'n_estimators': [500, 750, 1000]},\n",
       "                   random_state=42, verbose=2)"
      ]
     },
     "execution_count": 74,
     "metadata": {},
     "output_type": "execute_result"
    }
   ],
   "source": [
    "# Use the random grid to search for best hyperparameters\n",
    "# First create the base model to tune\n",
    "rf = RandomForestClassifier()\n",
    "# Random search of parameters, using 3 fold cross validation, \n",
    "# search across 100 different combinations, and use all available cores\n",
    "rf_random = RandomizedSearchCV(estimator = rf, param_distributions = random_grid, n_iter = 100, cv = 3, verbose=2, random_state=42, n_jobs = -1)\n",
    "# Fit the random search model\n",
    "rf_random.fit(X_train,y_train)"
   ]
  },
  {
   "cell_type": "code",
   "execution_count": 75,
   "id": "d1854532",
   "metadata": {},
   "outputs": [
    {
     "data": {
      "text/plain": [
       "{'n_estimators': 1000,\n",
       " 'min_samples_split': 2,\n",
       " 'min_samples_leaf': 1,\n",
       " 'max_features': 'sqrt',\n",
       " 'max_depth': None,\n",
       " 'bootstrap': True}"
      ]
     },
     "execution_count": 75,
     "metadata": {},
     "output_type": "execute_result"
    }
   ],
   "source": [
    "rf_random.best_params_"
   ]
  },
  {
   "cell_type": "code",
   "execution_count": 76,
   "id": "a87863f4",
   "metadata": {},
   "outputs": [],
   "source": [
    "rf = RandomForestClassifier(random_state = 42,n_estimators= 750,max_features='sqrt')"
   ]
  },
  {
   "cell_type": "code",
   "execution_count": 77,
   "id": "99ad2d64",
   "metadata": {},
   "outputs": [
    {
     "name": "stdout",
     "output_type": "stream",
     "text": [
      "              precision    recall  f1-score   support\n",
      "\n",
      "        high       0.69      0.26      0.38       220\n",
      "         low       0.64      0.68      0.66      1475\n",
      "      medium       0.57      0.59      0.58      1203\n",
      "\n",
      "    accuracy                           0.61      2898\n",
      "   macro avg       0.63      0.51      0.54      2898\n",
      "weighted avg       0.61      0.61      0.60      2898\n",
      "\n"
     ]
    },
    {
     "data": {
      "image/png": "[encoded data removed]",
      "text/plain": [
       "<Figure size 576x396 with 2 Axes>"
      ]
     },
     "metadata": {},
     "output_type": "display_data"
    }
   ],
   "source": [
    "model = rf.fit(X_train,y_train)\n",
    "predictions = model.predict(X_test)\n",
    "plot_confusion_matrix(rf, X_test, y_test)\n",
    "print(classification_report(y_test, predictions))"
   ]
  },
  {
   "cell_type": "markdown",
   "id": "c1d061e8",
   "metadata": {},
   "source": [
    "# Hyperparameter tuning with GridSerach"
   ]
  },
  {
   "cell_type": "markdown",
   "id": "cc5a232f",
   "metadata": {},
   "source": [
    "1.KNN"
   ]
  },
  {
   "cell_type": "code",
   "execution_count": 78,
   "id": "5f60744c",
   "metadata": {},
   "outputs": [],
   "source": [
    "from sklearn.model_selection import GridSearchCV"
   ]
  },
  {
   "cell_type": "code",
   "execution_count": 79,
   "id": "1788e66a",
   "metadata": {},
   "outputs": [],
   "source": [
    "#List Hyperparameters that we want to tune.\n",
    "leaf_size = list(range(1,5))\n",
    "n_neighbors = list(range(3,4))\n",
    "p=[1,2]\n",
    "#Convert to dictionary\n",
    "hyperparameters = dict(leaf_size=leaf_size, n_neighbors=n_neighbors, p=p)\n",
    "#Create new KNN object\n",
    "knn_2 = KNeighborsClassifier()"
   ]
  },
  {
   "cell_type": "code",
   "execution_count": 80,
   "id": "e67fe601",
   "metadata": {},
   "outputs": [
    {
     "name": "stdout",
     "output_type": "stream",
     "text": [
      "Best leaf_size: 1\n",
      "Best p: 2\n",
      "Best n_neighbors: 3\n"
     ]
    }
   ],
   "source": [
    "#Use GridSearch\n",
    "clf = GridSearchCV(knn_2, hyperparameters, cv=10)\n",
    "#Fit the model\n",
    "best_model = clf.fit(X_train,y_train)\n",
    "#Print The value of best Hyperparameters\n",
    "print('Best leaf_size:', best_model.best_estimator_.get_params()['leaf_size'])\n",
    "print('Best p:', best_model.best_estimator_.get_params()['p'])\n",
    "print('Best n_neighbors:', best_model.best_estimator_.get_params()['n_neighbors'])"
   ]
  },
  {
   "cell_type": "code",
   "execution_count": 81,
   "id": "89611675",
   "metadata": {},
   "outputs": [
    {
     "name": "stdout",
     "output_type": "stream",
     "text": [
      "              precision    recall  f1-score   support\n",
      "\n",
      "        high       0.19      0.24      0.21       220\n",
      "         low       0.60      0.60      0.60      1475\n",
      "      medium       0.51      0.49      0.50      1203\n",
      "\n",
      "    accuracy                           0.53      2898\n",
      "   macro avg       0.43      0.44      0.44      2898\n",
      "weighted avg       0.53      0.53      0.53      2898\n",
      "\n"
     ]
    },
    {
     "data": {
      "image/png": "[encoded data removed]",
      "text/plain": [
       "<Figure size 576x396 with 2 Axes>"
      ]
     },
     "metadata": {},
     "output_type": "display_data"
    }
   ],
   "source": [
    "kncdf = KNeighborsClassifier(leaf_size=1,n_neighbors=3,metric=\"minkowski\",p=2)\n",
    "model = kncdf.fit(X_train,y_train)\n",
    "predictions = model.predict(X_test)\n",
    "plot_confusion_matrix(kncdf, X_test, y_test)\n",
    "print(classification_report(y_test, predictions))"
   ]
  },
  {
   "cell_type": "code",
   "execution_count": null,
   "id": "c99d3d78",
   "metadata": {},
   "outputs": [],
   "source": []
  },
  {
   "cell_type": "markdown",
   "id": "5d9ccce6",
   "metadata": {},
   "source": [
    "2.Decision Tree"
   ]
  },
  {
   "cell_type": "code",
   "execution_count": 82,
   "id": "d726a99d",
   "metadata": {},
   "outputs": [],
   "source": [
    "dt = DecisionTreeClassifier(random_state=42)"
   ]
  },
  {
   "cell_type": "code",
   "execution_count": 83,
   "id": "68e69d14",
   "metadata": {},
   "outputs": [],
   "source": [
    "def evaluate_model(dt_classifier):\n",
    "    print(\"Train Accuracy :\", accuracy_score(y_train, dt_classifier.predict(X_train)))\n",
    "    print(\"Train Confusion Matrix:\")\n",
    "    print(confusion_matrix(y_train, dt_classifier.predict(X_train)))\n",
    "    print(\"-\"*50)\n",
    "    print(\"Test Accuracy :\", accuracy_score(y_test, dt_classifier.predict(X_test)))\n",
    "    print(\"Test Confusion Matrix:\")\n",
    "    print(confusion_matrix(y_test, dt_classifier.predict(X_test)))"
   ]
  },
  {
   "cell_type": "code",
   "execution_count": 84,
   "id": "412d4d15",
   "metadata": {},
   "outputs": [],
   "source": [
    "params = {\n",
    "    'max_depth': [2, 3, 5, 10, 20],\n",
    "    'min_samples_leaf': [5, 10, 20, 50, 100],\n",
    "    'criterion': [\"gini\", \"entropy\"]\n",
    "}"
   ]
  },
  {
   "cell_type": "code",
   "execution_count": 85,
   "id": "49e9da46",
   "metadata": {},
   "outputs": [],
   "source": [
    "grid_search = GridSearchCV(estimator=dt, \n",
    "                           param_grid=params, \n",
    "                           cv=4, n_jobs=-1, verbose=1, scoring = \"accuracy\")"
   ]
  },
  {
   "cell_type": "code",
   "execution_count": 86,
   "id": "b8b529bf",
   "metadata": {},
   "outputs": [
    {
     "name": "stdout",
     "output_type": "stream",
     "text": [
      "Fitting 4 folds for each of 50 candidates, totalling 200 fits\n",
      "Wall time: 3.23 s\n"
     ]
    },
    {
     "data": {
      "text/plain": [
       "GridSearchCV(cv=4, estimator=DecisionTreeClassifier(random_state=42), n_jobs=-1,\n",
       "             param_grid={'criterion': ['gini', 'entropy'],\n",
       "                         'max_depth': [2, 3, 5, 10, 20],\n",
       "                         'min_samples_leaf': [5, 10, 20, 50, 100]},\n",
       "             scoring='accuracy', verbose=1)"
      ]
     },
     "execution_count": 86,
     "metadata": {},
     "output_type": "execute_result"
    }
   ],
   "source": [
    "%%time\n",
    "grid_search.fit(X_train, y_train)"
   ]
  },
  {
   "cell_type": "code",
   "execution_count": 87,
   "id": "6ae57e4c",
   "metadata": {},
   "outputs": [
    {
     "data": {
      "text/plain": [
       "GridSearchCV(cv=4, estimator=DecisionTreeClassifier(random_state=42), n_jobs=-1,\n",
       "             param_grid={'criterion': ['gini', 'entropy'],\n",
       "                         'max_depth': [2, 3, 5, 10, 20],\n",
       "                         'min_samples_leaf': [5, 10, 20, 50, 100]},\n",
       "             scoring='accuracy', verbose=1)"
      ]
     },
     "execution_count": 87,
     "metadata": {},
     "output_type": "execute_result"
    }
   ],
   "source": [
    "GridSearchCV(cv=4, estimator=DecisionTreeClassifier(random_state=42), n_jobs=-1,\n",
    "             param_grid={'criterion': ['gini', 'entropy'],\n",
    "                         'max_depth': [2, 3, 5, 10, 20],\n",
    "                         'min_samples_leaf': [5, 10, 20, 50, 100]},\n",
    "             scoring='accuracy', verbose=1)"
   ]
  },
  {
   "cell_type": "code",
   "execution_count": 88,
   "id": "04656c38",
   "metadata": {},
   "outputs": [
    {
     "data": {
      "text/html": [
       "<div>\n",
       "<style scoped>\n",
       "    .dataframe tbody tr th:only-of-type {\n",
       "        vertical-align: middle;\n",
       "    }\n",
       "\n",
       "    .dataframe tbody tr th {\n",
       "        vertical-align: top;\n",
       "    }\n",
       "\n",
       "    .dataframe thead th {\n",
       "        text-align: right;\n",
       "    }\n",
       "</style>\n",
       "<table border=\"1\" class=\"dataframe\">\n",
       "  <thead>\n",
       "    <tr style=\"text-align: right;\">\n",
       "      <th></th>\n",
       "      <th>mean_fit_time</th>\n",
       "      <th>std_fit_time</th>\n",
       "      <th>mean_score_time</th>\n",
       "      <th>std_score_time</th>\n",
       "      <th>param_criterion</th>\n",
       "      <th>param_max_depth</th>\n",
       "      <th>param_min_samples_leaf</th>\n",
       "      <th>params</th>\n",
       "      <th>split0_test_score</th>\n",
       "      <th>split1_test_score</th>\n",
       "      <th>split2_test_score</th>\n",
       "      <th>split3_test_score</th>\n",
       "      <th>mean_test_score</th>\n",
       "      <th>std_test_score</th>\n",
       "      <th>rank_test_score</th>\n",
       "    </tr>\n",
       "  </thead>\n",
       "  <tbody>\n",
       "    <tr>\n",
       "      <th>0</th>\n",
       "      <td>0.017500</td>\n",
       "      <td>4.330329e-03</td>\n",
       "      <td>0.005001</td>\n",
       "      <td>0.005001</td>\n",
       "      <td>gini</td>\n",
       "      <td>2</td>\n",
       "      <td>5</td>\n",
       "      <td>{'criterion': 'gini', 'max_depth': 2, 'min_sam...</td>\n",
       "      <td>0.50322</td>\n",
       "      <td>0.50736</td>\n",
       "      <td>0.510815</td>\n",
       "      <td>0.50115</td>\n",
       "      <td>0.505636</td>\n",
       "      <td>0.003733</td>\n",
       "      <td>21</td>\n",
       "    </tr>\n",
       "    <tr>\n",
       "      <th>1</th>\n",
       "      <td>0.015000</td>\n",
       "      <td>5.000770e-03</td>\n",
       "      <td>0.002500</td>\n",
       "      <td>0.004330</td>\n",
       "      <td>gini</td>\n",
       "      <td>2</td>\n",
       "      <td>10</td>\n",
       "      <td>{'criterion': 'gini', 'max_depth': 2, 'min_sam...</td>\n",
       "      <td>0.50322</td>\n",
       "      <td>0.50736</td>\n",
       "      <td>0.510815</td>\n",
       "      <td>0.50115</td>\n",
       "      <td>0.505636</td>\n",
       "      <td>0.003733</td>\n",
       "      <td>21</td>\n",
       "    </tr>\n",
       "    <tr>\n",
       "      <th>2</th>\n",
       "      <td>0.017500</td>\n",
       "      <td>4.330812e-03</td>\n",
       "      <td>0.005001</td>\n",
       "      <td>0.005001</td>\n",
       "      <td>gini</td>\n",
       "      <td>2</td>\n",
       "      <td>20</td>\n",
       "      <td>{'criterion': 'gini', 'max_depth': 2, 'min_sam...</td>\n",
       "      <td>0.50322</td>\n",
       "      <td>0.50736</td>\n",
       "      <td>0.510815</td>\n",
       "      <td>0.50115</td>\n",
       "      <td>0.505636</td>\n",
       "      <td>0.003733</td>\n",
       "      <td>21</td>\n",
       "    </tr>\n",
       "    <tr>\n",
       "      <th>3</th>\n",
       "      <td>0.017501</td>\n",
       "      <td>4.328678e-03</td>\n",
       "      <td>0.005000</td>\n",
       "      <td>0.005000</td>\n",
       "      <td>gini</td>\n",
       "      <td>2</td>\n",
       "      <td>50</td>\n",
       "      <td>{'criterion': 'gini', 'max_depth': 2, 'min_sam...</td>\n",
       "      <td>0.50322</td>\n",
       "      <td>0.50736</td>\n",
       "      <td>0.510815</td>\n",
       "      <td>0.50115</td>\n",
       "      <td>0.505636</td>\n",
       "      <td>0.003733</td>\n",
       "      <td>21</td>\n",
       "    </tr>\n",
       "    <tr>\n",
       "      <th>4</th>\n",
       "      <td>0.019998</td>\n",
       "      <td>8.760058e-07</td>\n",
       "      <td>0.005000</td>\n",
       "      <td>0.005000</td>\n",
       "      <td>gini</td>\n",
       "      <td>2</td>\n",
       "      <td>100</td>\n",
       "      <td>{'criterion': 'gini', 'max_depth': 2, 'min_sam...</td>\n",
       "      <td>0.50322</td>\n",
       "      <td>0.50736</td>\n",
       "      <td>0.510815</td>\n",
       "      <td>0.50115</td>\n",
       "      <td>0.505636</td>\n",
       "      <td>0.003733</td>\n",
       "      <td>21</td>\n",
       "    </tr>\n",
       "  </tbody>\n",
       "</table>\n",
       "</div>"
      ],
      "text/plain": [
       "   mean_fit_time  std_fit_time  mean_score_time  std_score_time  \\\n",
       "0       0.017500  4.330329e-03         0.005001        0.005001   \n",
       "1       0.015000  5.000770e-03         0.002500        0.004330   \n",
       "2       0.017500  4.330812e-03         0.005001        0.005001   \n",
       "3       0.017501  4.328678e-03         0.005000        0.005000   \n",
       "4       0.019998  8.760058e-07         0.005000        0.005000   \n",
       "\n",
       "  param_criterion param_max_depth param_min_samples_leaf  \\\n",
       "0            gini               2                      5   \n",
       "1            gini               2                     10   \n",
       "2            gini               2                     20   \n",
       "3            gini               2                     50   \n",
       "4            gini               2                    100   \n",
       "\n",
       "                                              params  split0_test_score  \\\n",
       "0  {'criterion': 'gini', 'max_depth': 2, 'min_sam...            0.50322   \n",
       "1  {'criterion': 'gini', 'max_depth': 2, 'min_sam...            0.50322   \n",
       "2  {'criterion': 'gini', 'max_depth': 2, 'min_sam...            0.50322   \n",
       "3  {'criterion': 'gini', 'max_depth': 2, 'min_sam...            0.50322   \n",
       "4  {'criterion': 'gini', 'max_depth': 2, 'min_sam...            0.50322   \n",
       "\n",
       "   split1_test_score  split2_test_score  split3_test_score  mean_test_score  \\\n",
       "0            0.50736           0.510815            0.50115         0.505636   \n",
       "1            0.50736           0.510815            0.50115         0.505636   \n",
       "2            0.50736           0.510815            0.50115         0.505636   \n",
       "3            0.50736           0.510815            0.50115         0.505636   \n",
       "4            0.50736           0.510815            0.50115         0.505636   \n",
       "\n",
       "   std_test_score  rank_test_score  \n",
       "0        0.003733               21  \n",
       "1        0.003733               21  \n",
       "2        0.003733               21  \n",
       "3        0.003733               21  \n",
       "4        0.003733               21  "
      ]
     },
     "execution_count": 88,
     "metadata": {},
     "output_type": "execute_result"
    }
   ],
   "source": [
    "score_df = pd.DataFrame(grid_search.cv_results_)\n",
    "score_df.head()"
   ]
  },
  {
   "cell_type": "code",
   "execution_count": 89,
   "id": "9ab35c07",
   "metadata": {},
   "outputs": [
    {
     "data": {
      "text/html": [
       "<div>\n",
       "<style scoped>\n",
       "    .dataframe tbody tr th:only-of-type {\n",
       "        vertical-align: middle;\n",
       "    }\n",
       "\n",
       "    .dataframe tbody tr th {\n",
       "        vertical-align: top;\n",
       "    }\n",
       "\n",
       "    .dataframe thead th {\n",
       "        text-align: right;\n",
       "    }\n",
       "</style>\n",
       "<table border=\"1\" class=\"dataframe\">\n",
       "  <thead>\n",
       "    <tr style=\"text-align: right;\">\n",
       "      <th></th>\n",
       "      <th>mean_fit_time</th>\n",
       "      <th>std_fit_time</th>\n",
       "      <th>mean_score_time</th>\n",
       "      <th>std_score_time</th>\n",
       "      <th>param_criterion</th>\n",
       "      <th>param_max_depth</th>\n",
       "      <th>param_min_samples_leaf</th>\n",
       "      <th>params</th>\n",
       "      <th>split0_test_score</th>\n",
       "      <th>split1_test_score</th>\n",
       "      <th>split2_test_score</th>\n",
       "      <th>split3_test_score</th>\n",
       "      <th>mean_test_score</th>\n",
       "      <th>std_test_score</th>\n",
       "      <th>rank_test_score</th>\n",
       "    </tr>\n",
       "  </thead>\n",
       "  <tbody>\n",
       "    <tr>\n",
       "      <th>45</th>\n",
       "      <td>0.042501</td>\n",
       "      <td>0.004330</td>\n",
       "      <td>0.004999</td>\n",
       "      <td>0.004999</td>\n",
       "      <td>entropy</td>\n",
       "      <td>20</td>\n",
       "      <td>5</td>\n",
       "      <td>{'criterion': 'entropy', 'max_depth': 20, 'min...</td>\n",
       "      <td>0.50690</td>\n",
       "      <td>0.514719</td>\n",
       "      <td>0.518638</td>\n",
       "      <td>0.526921</td>\n",
       "      <td>0.516795</td>\n",
       "      <td>0.007214</td>\n",
       "      <td>1</td>\n",
       "    </tr>\n",
       "    <tr>\n",
       "      <th>20</th>\n",
       "      <td>0.045000</td>\n",
       "      <td>0.005001</td>\n",
       "      <td>0.005000</td>\n",
       "      <td>0.005000</td>\n",
       "      <td>gini</td>\n",
       "      <td>20</td>\n",
       "      <td>5</td>\n",
       "      <td>{'criterion': 'gini', 'max_depth': 20, 'min_sa...</td>\n",
       "      <td>0.50736</td>\n",
       "      <td>0.526219</td>\n",
       "      <td>0.513116</td>\n",
       "      <td>0.518178</td>\n",
       "      <td>0.516218</td>\n",
       "      <td>0.006927</td>\n",
       "      <td>2</td>\n",
       "    </tr>\n",
       "    <tr>\n",
       "      <th>5</th>\n",
       "      <td>0.020002</td>\n",
       "      <td>0.000002</td>\n",
       "      <td>0.005000</td>\n",
       "      <td>0.005000</td>\n",
       "      <td>gini</td>\n",
       "      <td>3</td>\n",
       "      <td>5</td>\n",
       "      <td>{'criterion': 'gini', 'max_depth': 3, 'min_sam...</td>\n",
       "      <td>0.50506</td>\n",
       "      <td>0.517479</td>\n",
       "      <td>0.518178</td>\n",
       "      <td>0.503912</td>\n",
       "      <td>0.511157</td>\n",
       "      <td>0.006688</td>\n",
       "      <td>3</td>\n",
       "    </tr>\n",
       "    <tr>\n",
       "      <th>8</th>\n",
       "      <td>0.022500</td>\n",
       "      <td>0.004330</td>\n",
       "      <td>0.002500</td>\n",
       "      <td>0.004331</td>\n",
       "      <td>gini</td>\n",
       "      <td>3</td>\n",
       "      <td>50</td>\n",
       "      <td>{'criterion': 'gini', 'max_depth': 3, 'min_sam...</td>\n",
       "      <td>0.50644</td>\n",
       "      <td>0.515639</td>\n",
       "      <td>0.517257</td>\n",
       "      <td>0.504832</td>\n",
       "      <td>0.511042</td>\n",
       "      <td>0.005466</td>\n",
       "      <td>4</td>\n",
       "    </tr>\n",
       "    <tr>\n",
       "      <th>30</th>\n",
       "      <td>0.022500</td>\n",
       "      <td>0.004330</td>\n",
       "      <td>0.007500</td>\n",
       "      <td>0.004330</td>\n",
       "      <td>entropy</td>\n",
       "      <td>3</td>\n",
       "      <td>5</td>\n",
       "      <td>{'criterion': 'entropy', 'max_depth': 3, 'min_...</td>\n",
       "      <td>0.50460</td>\n",
       "      <td>0.517479</td>\n",
       "      <td>0.518178</td>\n",
       "      <td>0.503912</td>\n",
       "      <td>0.511042</td>\n",
       "      <td>0.006795</td>\n",
       "      <td>4</td>\n",
       "    </tr>\n",
       "  </tbody>\n",
       "</table>\n",
       "</div>"
      ],
      "text/plain": [
       "    mean_fit_time  std_fit_time  mean_score_time  std_score_time  \\\n",
       "45       0.042501      0.004330         0.004999        0.004999   \n",
       "20       0.045000      0.005001         0.005000        0.005000   \n",
       "5        0.020002      0.000002         0.005000        0.005000   \n",
       "8        0.022500      0.004330         0.002500        0.004331   \n",
       "30       0.022500      0.004330         0.007500        0.004330   \n",
       "\n",
       "   param_criterion param_max_depth param_min_samples_leaf  \\\n",
       "45         entropy              20                      5   \n",
       "20            gini              20                      5   \n",
       "5             gini               3                      5   \n",
       "8             gini               3                     50   \n",
       "30         entropy               3                      5   \n",
       "\n",
       "                                               params  split0_test_score  \\\n",
       "45  {'criterion': 'entropy', 'max_depth': 20, 'min...            0.50690   \n",
       "20  {'criterion': 'gini', 'max_depth': 20, 'min_sa...            0.50736   \n",
       "5   {'criterion': 'gini', 'max_depth': 3, 'min_sam...            0.50506   \n",
       "8   {'criterion': 'gini', 'max_depth': 3, 'min_sam...            0.50644   \n",
       "30  {'criterion': 'entropy', 'max_depth': 3, 'min_...            0.50460   \n",
       "\n",
       "    split1_test_score  split2_test_score  split3_test_score  mean_test_score  \\\n",
       "45           0.514719           0.518638           0.526921         0.516795   \n",
       "20           0.526219           0.513116           0.518178         0.516218   \n",
       "5            0.517479           0.518178           0.503912         0.511157   \n",
       "8            0.515639           0.517257           0.504832         0.511042   \n",
       "30           0.517479           0.518178           0.503912         0.511042   \n",
       "\n",
       "    std_test_score  rank_test_score  \n",
       "45        0.007214                1  \n",
       "20        0.006927                2  \n",
       "5         0.006688                3  \n",
       "8         0.005466                4  \n",
       "30        0.006795                4  "
      ]
     },
     "execution_count": 89,
     "metadata": {},
     "output_type": "execute_result"
    }
   ],
   "source": [
    "score_df.nlargest(5,\"mean_test_score\")"
   ]
  },
  {
   "cell_type": "code",
   "execution_count": 90,
   "id": "89aade5a",
   "metadata": {},
   "outputs": [
    {
     "data": {
      "text/plain": [
       "DecisionTreeClassifier(criterion='entropy', max_depth=20, min_samples_leaf=5,\n",
       "                       random_state=42)"
      ]
     },
     "execution_count": 90,
     "metadata": {},
     "output_type": "execute_result"
    }
   ],
   "source": [
    "grid_search.best_estimator_"
   ]
  },
  {
   "cell_type": "code",
   "execution_count": 91,
   "id": "a1bcae55",
   "metadata": {},
   "outputs": [],
   "source": [
    "dt_best = grid_search.best_estimator_"
   ]
  },
  {
   "cell_type": "code",
   "execution_count": 92,
   "id": "9b1e905d",
   "metadata": {},
   "outputs": [
    {
     "name": "stdout",
     "output_type": "stream",
     "text": [
      "Train Accuracy : 0.732459167241776\n",
      "Train Confusion Matrix:\n",
      "[[ 246  243  161]\n",
      " [  74 3572  718]\n",
      " [  93 1037 2550]]\n",
      "--------------------------------------------------\n",
      "Test Accuracy : 0.5351966873706004\n",
      "Test Confusion Matrix:\n",
      "[[ 28 104  88]\n",
      " [ 58 967 450]\n",
      " [ 55 592 556]]\n"
     ]
    }
   ],
   "source": [
    "evaluate_model(dt_best)"
   ]
  },
  {
   "cell_type": "code",
   "execution_count": 93,
   "id": "23de01e3",
   "metadata": {},
   "outputs": [
    {
     "name": "stdout",
     "output_type": "stream",
     "text": [
      "              precision    recall  f1-score   support\n",
      "\n",
      "        high       0.20      0.13      0.16       220\n",
      "         low       0.58      0.66      0.62      1475\n",
      "      medium       0.51      0.46      0.48      1203\n",
      "\n",
      "    accuracy                           0.54      2898\n",
      "   macro avg       0.43      0.42      0.42      2898\n",
      "weighted avg       0.52      0.54      0.53      2898\n",
      "\n"
     ]
    }
   ],
   "source": [
    "print(classification_report(y_test, dt_best.predict(X_test)))"
   ]
  },
  {
   "cell_type": "code",
   "execution_count": null,
   "id": "9ae73fea",
   "metadata": {},
   "outputs": [],
   "source": []
  },
  {
   "cell_type": "code",
   "execution_count": null,
   "id": "8c59c561",
   "metadata": {},
   "outputs": [],
   "source": []
  }
 ],
 "metadata": {
  "kernelspec": {
   "display_name": "Python 3",
   "language": "python",
   "name": "python3"
  },
  "language_info": {
   "codemirror_mode": {
    "name": "ipython",
    "version": 3
   },
   "file_extension": ".py",
   "mimetype": "text/x-python",
   "name": "python",
   "nbconvert_exporter": "python",
   "pygments_lexer": "ipython3",
   "version": "3.8.8"
  }
 },
 "nbformat": 4,
 "nbformat_minor": 5
}
